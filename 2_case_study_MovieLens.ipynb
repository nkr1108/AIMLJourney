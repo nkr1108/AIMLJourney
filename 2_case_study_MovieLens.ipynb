{
  "cells": [
    {
      "cell_type": "markdown",
      "metadata": {
        "id": "SDUX0JveX9LU"
      },
      "source": [
        "### Context\n",
        "\n",
        "**MovieLens** provides an online database of information related to films, television series, online streaming content – including cast, production crew, trivia, ratings, fan, and critical reviews. Every year in collaboration with a guest curator, MovieLens publish their annuals based on a theme providing a comprehensive view of a topic. Explore the movies that are a decade old and deliver a detailed analysis."
      ]
    },
    {
      "cell_type": "markdown",
      "metadata": {
        "id": "-U1rhg_N2VgN"
      },
      "source": [
        "### Objective\n",
        "Detailed analysis of 3 data sets explained below - "
      ]
    },
    {
      "cell_type": "markdown",
      "metadata": {
        "id": "2yxsM_P2p21t"
      },
      "source": [
        "#### Data Overview\n",
        "\n",
        "- **movie.csv**: The file contains information related to the movies and their genres. All the genres contains binary values. \n",
        " * Columns: \n",
        "   * **movie id:** id assigned to every movie\n",
        "   * **movie title:** Title of the movie\n",
        "   * **release date:** Date of release of the movie\n",
        "   * The rest of the columns are different movie **genres** as follows - Action, Adventure, Animation, Children’s, Comedy, Crime, Documentary, Drama, Fantasy, Film-Noir, Horror, Musical, Mystery, Romance, Sci-Fi, Thriller, War, Western <br>\n",
        " <br>\n",
        "- **user.csv**: It contains information about the users who have rated the movies. \n",
        " * Columns:\n",
        "   *  **user id:** id assigned to every user \n",
        "    * **age:** Age of the user\n",
        "    * **gender:** Gender of the user\n",
        "    * **occupation:** Occupation of the user\n",
        "    * **zip code:** Zip code of the user<br><br>\n",
        "- **ratings.csv**: It contains information for ratings given by the users to a particular movie. \n",
        " * Columns:\n",
        "   * **user id:** id assigned to every user\n",
        "   * **movie id:** id assigned to every movie\n",
        "   * **rating:** the rating given by the user\n",
        "   * **timestamp:** Time recorded when the user gave a rating<br><br>"
      ]
    },
    {
      "cell_type": "markdown",
      "metadata": {
        "id": "WqXbfMjbgr-i"
      },
      "source": [
        "### Importing the necessary packages"
      ]
    },
    {
      "cell_type": "code",
      "execution_count": 1,
      "metadata": {
        "id": "PfpEUIkrjp_F"
      },
      "outputs": [],
      "source": [
        "import pandas as pd\n",
        "import numpy as np\n",
        "import datetime as dt\n",
        "import matplotlib.pyplot as plt\n",
        "import seaborn as sns"
      ]
    },
    {
      "cell_type": "markdown",
      "metadata": {
        "id": "_mDeMP0HkVt-"
      },
      "source": [
        "### Reading the datasets"
      ]
    },
    {
      "cell_type": "code",
      "execution_count": 2,
      "metadata": {
        "id": "8fFNO6ZQcZDQ"
      },
      "outputs": [],
      "source": [
        "# Reading datasets by using read_csv from pandas package\n",
        "movie = pd.read_csv('2_movie.csv')\n",
        "user = pd.read_csv('2_user.csv')\n",
        "ratings = pd.read_csv('2_ratings.csv')"
      ]
    },
    {
      "cell_type": "markdown",
      "metadata": {
        "id": "ykioo1s1Ub18"
      },
      "source": [
        "### Data Overview"
      ]
    },
    {
      "cell_type": "markdown",
      "metadata": {
        "id": "YNBuTaD_saTl"
      },
      "source": [
        "- observe the first few rows of the dataset and check whether the dataset has been loaded or not\n",
        "- get information about the number of rows and columns in the dataset\n",
        "- find out the data types of the columns to ensure that data is stored in the preferred format and the value of each property is as expected.\n",
        "- check the statistical summary of the dataset to get an overview of the numerical columns"
      ]
    },
    {
      "cell_type": "markdown",
      "metadata": {
        "id": "SkS6tTPXCRiM"
      },
      "source": [
        "#### User Dataset"
      ]
    },
    {
      "cell_type": "code",
      "execution_count": 3,
      "metadata": {
        "colab": {
          "base_uri": "https://localhost:8080/",
          "height": 206
        },
        "id": "ZxvnSKt9C3hS",
        "outputId": "31fd1679-6330-42de-d2dc-89ea7d2e05b2"
      },
      "outputs": [
        {
          "data": {
            "text/html": [
              "<div>\n",
              "<style scoped>\n",
              "    .dataframe tbody tr th:only-of-type {\n",
              "        vertical-align: middle;\n",
              "    }\n",
              "\n",
              "    .dataframe tbody tr th {\n",
              "        vertical-align: top;\n",
              "    }\n",
              "\n",
              "    .dataframe thead th {\n",
              "        text-align: right;\n",
              "    }\n",
              "</style>\n",
              "<table border=\"1\" class=\"dataframe\">\n",
              "  <thead>\n",
              "    <tr style=\"text-align: right;\">\n",
              "      <th></th>\n",
              "      <th>user id</th>\n",
              "      <th>age</th>\n",
              "      <th>gender</th>\n",
              "      <th>occupation</th>\n",
              "      <th>zip code</th>\n",
              "    </tr>\n",
              "  </thead>\n",
              "  <tbody>\n",
              "    <tr>\n",
              "      <th>0</th>\n",
              "      <td>1</td>\n",
              "      <td>24</td>\n",
              "      <td>M</td>\n",
              "      <td>technician</td>\n",
              "      <td>85711</td>\n",
              "    </tr>\n",
              "    <tr>\n",
              "      <th>1</th>\n",
              "      <td>2</td>\n",
              "      <td>53</td>\n",
              "      <td>F</td>\n",
              "      <td>other</td>\n",
              "      <td>94043</td>\n",
              "    </tr>\n",
              "    <tr>\n",
              "      <th>2</th>\n",
              "      <td>3</td>\n",
              "      <td>23</td>\n",
              "      <td>M</td>\n",
              "      <td>writer</td>\n",
              "      <td>32067</td>\n",
              "    </tr>\n",
              "    <tr>\n",
              "      <th>3</th>\n",
              "      <td>4</td>\n",
              "      <td>24</td>\n",
              "      <td>M</td>\n",
              "      <td>technician</td>\n",
              "      <td>43537</td>\n",
              "    </tr>\n",
              "    <tr>\n",
              "      <th>4</th>\n",
              "      <td>5</td>\n",
              "      <td>33</td>\n",
              "      <td>F</td>\n",
              "      <td>other</td>\n",
              "      <td>15213</td>\n",
              "    </tr>\n",
              "  </tbody>\n",
              "</table>\n",
              "</div>"
            ],
            "text/plain": [
              "   user id  age gender  occupation zip code\n",
              "0        1   24      M  technician    85711\n",
              "1        2   53      F       other    94043\n",
              "2        3   23      M      writer    32067\n",
              "3        4   24      M  technician    43537\n",
              "4        5   33      F       other    15213"
            ]
          },
          "execution_count": 3,
          "metadata": {},
          "output_type": "execute_result"
        }
      ],
      "source": [
        "user.head()"
      ]
    },
    {
      "cell_type": "markdown",
      "metadata": {
        "id": "clO-JJrqDF7H"
      },
      "source": [
        "- *The user dataset contains demographic information about the users who have rated the movies*\n",
        "- *`user id` can be removed, as it is just a sequential id*\n",
        "- *The column `gender` has values as M and F, where M represents Male users and F represents Female users*\n",
        "- *We can also observe that users are from different occupational backgrounds like 'technician', 'writer', etc.*\n",
        "- *The column `zip code` represents the area where the user is residing*"
      ]
    },
    {
      "cell_type": "code",
      "execution_count": 4,
      "metadata": {
        "colab": {
          "base_uri": "https://localhost:8080/"
        },
        "id": "lnB0g2jhDRH5",
        "outputId": "adae6423-c70a-46cf-b32a-b7401fabaf80"
      },
      "outputs": [
        {
          "data": {
            "text/plain": [
              "(943, 5)"
            ]
          },
          "execution_count": 4,
          "metadata": {},
          "output_type": "execute_result"
        }
      ],
      "source": [
        "user.shape"
      ]
    },
    {
      "cell_type": "markdown",
      "metadata": {
        "id": "a9W5_kmVDcEA"
      },
      "source": [
        "- *There are 943 rows and 5 columns in the user dataset.*"
      ]
    },
    {
      "cell_type": "code",
      "execution_count": 5,
      "metadata": {
        "colab": {
          "base_uri": "https://localhost:8080/"
        },
        "id": "BH4-52PlDpct",
        "outputId": "b6b55627-ac33-4720-ca51-4b9d9fc2777d"
      },
      "outputs": [
        {
          "name": "stdout",
          "output_type": "stream",
          "text": [
            "<class 'pandas.core.frame.DataFrame'>\n",
            "RangeIndex: 943 entries, 0 to 942\n",
            "Data columns (total 5 columns):\n",
            " #   Column      Non-Null Count  Dtype \n",
            "---  ------      --------------  ----- \n",
            " 0   user id     943 non-null    int64 \n",
            " 1   age         943 non-null    int64 \n",
            " 2   gender      943 non-null    object\n",
            " 3   occupation  943 non-null    object\n",
            " 4   zip code    943 non-null    object\n",
            "dtypes: int64(2), object(3)\n",
            "memory usage: 37.0+ KB\n"
          ]
        }
      ],
      "source": [
        "user.info()"
      ]
    },
    {
      "cell_type": "markdown",
      "metadata": {
        "id": "rrzlu3PMD3ZU"
      },
      "source": [
        "- *We can see that the `gender`, `occupation` and `zip code` columns are of object type while the other columns are of integer type since they are containing numbers in them.*\n",
        "- *The data type of the `zip code` column is object which seems to be wrong and needs further investigation since this column seems to be containing integer values, as seen from the first 5 rows of the dataframe.*\n",
        "- *there are no null values*"
      ]
    },
    {
      "cell_type": "code",
      "execution_count": 6,
      "metadata": {
        "colab": {
          "base_uri": "https://localhost:8080/",
          "height": 300
        },
        "id": "YUu3ah3SFNzZ",
        "outputId": "e06e66c5-4c10-4c70-a790-a02e621616ae"
      },
      "outputs": [
        {
          "data": {
            "text/html": [
              "<div>\n",
              "<style scoped>\n",
              "    .dataframe tbody tr th:only-of-type {\n",
              "        vertical-align: middle;\n",
              "    }\n",
              "\n",
              "    .dataframe tbody tr th {\n",
              "        vertical-align: top;\n",
              "    }\n",
              "\n",
              "    .dataframe thead th {\n",
              "        text-align: right;\n",
              "    }\n",
              "</style>\n",
              "<table border=\"1\" class=\"dataframe\">\n",
              "  <thead>\n",
              "    <tr style=\"text-align: right;\">\n",
              "      <th></th>\n",
              "      <th>count</th>\n",
              "      <th>unique</th>\n",
              "      <th>top</th>\n",
              "      <th>freq</th>\n",
              "      <th>mean</th>\n",
              "      <th>std</th>\n",
              "      <th>min</th>\n",
              "      <th>25%</th>\n",
              "      <th>50%</th>\n",
              "      <th>75%</th>\n",
              "      <th>max</th>\n",
              "    </tr>\n",
              "  </thead>\n",
              "  <tbody>\n",
              "    <tr>\n",
              "      <th>user id</th>\n",
              "      <td>943.0</td>\n",
              "      <td>NaN</td>\n",
              "      <td>NaN</td>\n",
              "      <td>NaN</td>\n",
              "      <td>472.0</td>\n",
              "      <td>272.364951</td>\n",
              "      <td>1.0</td>\n",
              "      <td>236.5</td>\n",
              "      <td>472.0</td>\n",
              "      <td>707.5</td>\n",
              "      <td>943.0</td>\n",
              "    </tr>\n",
              "    <tr>\n",
              "      <th>age</th>\n",
              "      <td>943.0</td>\n",
              "      <td>NaN</td>\n",
              "      <td>NaN</td>\n",
              "      <td>NaN</td>\n",
              "      <td>34.051962</td>\n",
              "      <td>12.19274</td>\n",
              "      <td>7.0</td>\n",
              "      <td>25.0</td>\n",
              "      <td>31.0</td>\n",
              "      <td>43.0</td>\n",
              "      <td>73.0</td>\n",
              "    </tr>\n",
              "    <tr>\n",
              "      <th>gender</th>\n",
              "      <td>943</td>\n",
              "      <td>2</td>\n",
              "      <td>M</td>\n",
              "      <td>670</td>\n",
              "      <td>NaN</td>\n",
              "      <td>NaN</td>\n",
              "      <td>NaN</td>\n",
              "      <td>NaN</td>\n",
              "      <td>NaN</td>\n",
              "      <td>NaN</td>\n",
              "      <td>NaN</td>\n",
              "    </tr>\n",
              "    <tr>\n",
              "      <th>occupation</th>\n",
              "      <td>943</td>\n",
              "      <td>21</td>\n",
              "      <td>student</td>\n",
              "      <td>196</td>\n",
              "      <td>NaN</td>\n",
              "      <td>NaN</td>\n",
              "      <td>NaN</td>\n",
              "      <td>NaN</td>\n",
              "      <td>NaN</td>\n",
              "      <td>NaN</td>\n",
              "      <td>NaN</td>\n",
              "    </tr>\n",
              "    <tr>\n",
              "      <th>zip code</th>\n",
              "      <td>943</td>\n",
              "      <td>795</td>\n",
              "      <td>55414</td>\n",
              "      <td>9</td>\n",
              "      <td>NaN</td>\n",
              "      <td>NaN</td>\n",
              "      <td>NaN</td>\n",
              "      <td>NaN</td>\n",
              "      <td>NaN</td>\n",
              "      <td>NaN</td>\n",
              "      <td>NaN</td>\n",
              "    </tr>\n",
              "  </tbody>\n",
              "</table>\n",
              "</div>"
            ],
            "text/plain": [
              "            count unique      top freq       mean         std  min    25%  \\\n",
              "user id     943.0    NaN      NaN  NaN      472.0  272.364951  1.0  236.5   \n",
              "age         943.0    NaN      NaN  NaN  34.051962    12.19274  7.0   25.0   \n",
              "gender        943      2        M  670        NaN         NaN  NaN    NaN   \n",
              "occupation    943     21  student  196        NaN         NaN  NaN    NaN   \n",
              "zip code      943    795    55414    9        NaN         NaN  NaN    NaN   \n",
              "\n",
              "              50%    75%    max  \n",
              "user id     472.0  707.5  943.0  \n",
              "age          31.0   43.0   73.0  \n",
              "gender        NaN    NaN    NaN  \n",
              "occupation    NaN    NaN    NaN  \n",
              "zip code      NaN    NaN    NaN  "
            ]
          },
          "execution_count": 6,
          "metadata": {},
          "output_type": "execute_result"
        }
      ],
      "source": [
        "user.describe(include='all').T"
      ]
    },
    {
      "cell_type": "markdown",
      "metadata": {
        "id": "nZ8GcdPsFcml"
      },
      "source": [
        "- *`age` average age of users who have rated the movies is 34 years* \n",
        "- *`user id` is an unique identifier of the users who have rated the movies, interpreting its summary statistics won't yield meaningful insights.*\n",
        "- *`occupation` Majority of the occupation is student with frequency of 196\n",
        "- *`gender` Majority are male"
      ]
    },
    {
      "cell_type": "markdown",
      "metadata": {
        "id": "pidPJJlVu08m"
      },
      "source": [
        "#### Movie Dataset"
      ]
    },
    {
      "cell_type": "code",
      "execution_count": 7,
      "metadata": {
        "colab": {
          "base_uri": "https://localhost:8080/",
          "height": 374
        },
        "id": "QmkROCFivGmz",
        "outputId": "20387b0d-00d6-44cf-fc56-681dfa36848f"
      },
      "outputs": [
        {
          "data": {
            "text/html": [
              "<div>\n",
              "<style scoped>\n",
              "    .dataframe tbody tr th:only-of-type {\n",
              "        vertical-align: middle;\n",
              "    }\n",
              "\n",
              "    .dataframe tbody tr th {\n",
              "        vertical-align: top;\n",
              "    }\n",
              "\n",
              "    .dataframe thead th {\n",
              "        text-align: right;\n",
              "    }\n",
              "</style>\n",
              "<table border=\"1\" class=\"dataframe\">\n",
              "  <thead>\n",
              "    <tr style=\"text-align: right;\">\n",
              "      <th></th>\n",
              "      <th>movie id</th>\n",
              "      <th>movie title</th>\n",
              "      <th>release date</th>\n",
              "      <th>Action</th>\n",
              "      <th>Adventure</th>\n",
              "      <th>Animation</th>\n",
              "      <th>Childrens</th>\n",
              "      <th>Comedy</th>\n",
              "      <th>Crime</th>\n",
              "      <th>Documentary</th>\n",
              "      <th>...</th>\n",
              "      <th>Fantasy</th>\n",
              "      <th>Film-Noir</th>\n",
              "      <th>Horror</th>\n",
              "      <th>Musical</th>\n",
              "      <th>Mystery</th>\n",
              "      <th>Romance</th>\n",
              "      <th>Sci-Fi</th>\n",
              "      <th>Thriller</th>\n",
              "      <th>War</th>\n",
              "      <th>Western</th>\n",
              "    </tr>\n",
              "  </thead>\n",
              "  <tbody>\n",
              "    <tr>\n",
              "      <th>0</th>\n",
              "      <td>1</td>\n",
              "      <td>Toy Story</td>\n",
              "      <td>01-01-1995</td>\n",
              "      <td>0</td>\n",
              "      <td>0</td>\n",
              "      <td>1</td>\n",
              "      <td>1</td>\n",
              "      <td>1</td>\n",
              "      <td>0</td>\n",
              "      <td>0</td>\n",
              "      <td>...</td>\n",
              "      <td>0</td>\n",
              "      <td>0</td>\n",
              "      <td>0</td>\n",
              "      <td>0</td>\n",
              "      <td>0</td>\n",
              "      <td>0</td>\n",
              "      <td>0</td>\n",
              "      <td>0</td>\n",
              "      <td>0</td>\n",
              "      <td>0</td>\n",
              "    </tr>\n",
              "    <tr>\n",
              "      <th>1</th>\n",
              "      <td>2</td>\n",
              "      <td>GoldenEye</td>\n",
              "      <td>01-01-1995</td>\n",
              "      <td>1</td>\n",
              "      <td>1</td>\n",
              "      <td>0</td>\n",
              "      <td>0</td>\n",
              "      <td>0</td>\n",
              "      <td>0</td>\n",
              "      <td>0</td>\n",
              "      <td>...</td>\n",
              "      <td>0</td>\n",
              "      <td>0</td>\n",
              "      <td>0</td>\n",
              "      <td>0</td>\n",
              "      <td>0</td>\n",
              "      <td>0</td>\n",
              "      <td>0</td>\n",
              "      <td>1</td>\n",
              "      <td>0</td>\n",
              "      <td>0</td>\n",
              "    </tr>\n",
              "    <tr>\n",
              "      <th>2</th>\n",
              "      <td>3</td>\n",
              "      <td>Four Rooms</td>\n",
              "      <td>01-01-1995</td>\n",
              "      <td>0</td>\n",
              "      <td>0</td>\n",
              "      <td>0</td>\n",
              "      <td>0</td>\n",
              "      <td>0</td>\n",
              "      <td>0</td>\n",
              "      <td>0</td>\n",
              "      <td>...</td>\n",
              "      <td>0</td>\n",
              "      <td>0</td>\n",
              "      <td>0</td>\n",
              "      <td>0</td>\n",
              "      <td>0</td>\n",
              "      <td>0</td>\n",
              "      <td>0</td>\n",
              "      <td>1</td>\n",
              "      <td>0</td>\n",
              "      <td>0</td>\n",
              "    </tr>\n",
              "    <tr>\n",
              "      <th>3</th>\n",
              "      <td>4</td>\n",
              "      <td>Get Shorty</td>\n",
              "      <td>01-01-1995</td>\n",
              "      <td>1</td>\n",
              "      <td>0</td>\n",
              "      <td>0</td>\n",
              "      <td>0</td>\n",
              "      <td>1</td>\n",
              "      <td>0</td>\n",
              "      <td>0</td>\n",
              "      <td>...</td>\n",
              "      <td>0</td>\n",
              "      <td>0</td>\n",
              "      <td>0</td>\n",
              "      <td>0</td>\n",
              "      <td>0</td>\n",
              "      <td>0</td>\n",
              "      <td>0</td>\n",
              "      <td>0</td>\n",
              "      <td>0</td>\n",
              "      <td>0</td>\n",
              "    </tr>\n",
              "    <tr>\n",
              "      <th>4</th>\n",
              "      <td>5</td>\n",
              "      <td>Copycat</td>\n",
              "      <td>01-01-1995</td>\n",
              "      <td>0</td>\n",
              "      <td>0</td>\n",
              "      <td>0</td>\n",
              "      <td>0</td>\n",
              "      <td>0</td>\n",
              "      <td>1</td>\n",
              "      <td>0</td>\n",
              "      <td>...</td>\n",
              "      <td>0</td>\n",
              "      <td>0</td>\n",
              "      <td>0</td>\n",
              "      <td>0</td>\n",
              "      <td>0</td>\n",
              "      <td>0</td>\n",
              "      <td>0</td>\n",
              "      <td>1</td>\n",
              "      <td>0</td>\n",
              "      <td>0</td>\n",
              "    </tr>\n",
              "  </tbody>\n",
              "</table>\n",
              "<p>5 rows × 21 columns</p>\n",
              "</div>"
            ],
            "text/plain": [
              "   movie id  movie title release date  Action  Adventure  Animation  \\\n",
              "0         1   Toy Story    01-01-1995       0          0          1   \n",
              "1         2   GoldenEye    01-01-1995       1          1          0   \n",
              "2         3  Four Rooms    01-01-1995       0          0          0   \n",
              "3         4  Get Shorty    01-01-1995       1          0          0   \n",
              "4         5     Copycat    01-01-1995       0          0          0   \n",
              "\n",
              "   Childrens  Comedy  Crime  Documentary  ...  Fantasy  Film-Noir  Horror  \\\n",
              "0          1       1      0            0  ...        0          0       0   \n",
              "1          0       0      0            0  ...        0          0       0   \n",
              "2          0       0      0            0  ...        0          0       0   \n",
              "3          0       1      0            0  ...        0          0       0   \n",
              "4          0       0      1            0  ...        0          0       0   \n",
              "\n",
              "   Musical  Mystery  Romance  Sci-Fi  Thriller  War  Western  \n",
              "0        0        0        0       0         0    0        0  \n",
              "1        0        0        0       0         1    0        0  \n",
              "2        0        0        0       0         1    0        0  \n",
              "3        0        0        0       0         0    0        0  \n",
              "4        0        0        0       0         1    0        0  \n",
              "\n",
              "[5 rows x 21 columns]"
            ]
          },
          "execution_count": 7,
          "metadata": {},
          "output_type": "execute_result"
        }
      ],
      "source": [
        "movie.head()"
      ]
    },
    {
      "cell_type": "markdown",
      "metadata": {
        "id": "rsxI0iqyr-9P"
      },
      "source": [
        "- *`movie` dataset contains information related to the movies and their genres. While `movie id`, `movie title`, and `release date` are information related to the movies, the rest of the columns are specifically the genres of the movies.*<br> \n",
        "- *The columns associated to the genres of the movies are having values of 0s and 1s. The value '1' means that a particular movie belongs to that genre while the value '0' represents that the movie is not a part of that genre. Movies have multiple genres*"
      ]
    },
    {
      "cell_type": "code",
      "execution_count": 8,
      "metadata": {
        "colab": {
          "base_uri": "https://localhost:8080/"
        },
        "id": "ZY2ARvIlww4v",
        "outputId": "a7b19c29-3029-4d6e-a85e-e944be7f8ddc"
      },
      "outputs": [
        {
          "data": {
            "text/plain": [
              "(1680, 21)"
            ]
          },
          "execution_count": 8,
          "metadata": {},
          "output_type": "execute_result"
        }
      ],
      "source": [
        "movie.shape"
      ]
    },
    {
      "cell_type": "markdown",
      "metadata": {
        "id": "WeSUQjhTw3Lt"
      },
      "source": [
        "- *There are 1680 rows and 21 columns in the movie dataset.*"
      ]
    },
    {
      "cell_type": "code",
      "execution_count": 9,
      "metadata": {
        "colab": {
          "base_uri": "https://localhost:8080/"
        },
        "id": "GVwkhsgh0fsC",
        "outputId": "9599de54-be2e-4477-d521-fa19ae0732c0"
      },
      "outputs": [
        {
          "name": "stdout",
          "output_type": "stream",
          "text": [
            "<class 'pandas.core.frame.DataFrame'>\n",
            "RangeIndex: 1680 entries, 0 to 1679\n",
            "Data columns (total 21 columns):\n",
            " #   Column        Non-Null Count  Dtype \n",
            "---  ------        --------------  ----- \n",
            " 0   movie id      1680 non-null   int64 \n",
            " 1   movie title   1680 non-null   object\n",
            " 2   release date  1680 non-null   object\n",
            " 3   Action        1680 non-null   int64 \n",
            " 4   Adventure     1680 non-null   int64 \n",
            " 5   Animation     1680 non-null   int64 \n",
            " 6   Childrens     1680 non-null   int64 \n",
            " 7   Comedy        1680 non-null   int64 \n",
            " 8   Crime         1680 non-null   int64 \n",
            " 9   Documentary   1680 non-null   int64 \n",
            " 10  Drama         1680 non-null   int64 \n",
            " 11  Fantasy       1680 non-null   int64 \n",
            " 12  Film-Noir     1680 non-null   int64 \n",
            " 13  Horror        1680 non-null   int64 \n",
            " 14  Musical       1680 non-null   int64 \n",
            " 15  Mystery       1680 non-null   int64 \n",
            " 16  Romance       1680 non-null   int64 \n",
            " 17  Sci-Fi        1680 non-null   int64 \n",
            " 18  Thriller      1680 non-null   int64 \n",
            " 19  War           1680 non-null   int64 \n",
            " 20  Western       1680 non-null   int64 \n",
            "dtypes: int64(19), object(2)\n",
            "memory usage: 275.8+ KB\n"
          ]
        }
      ],
      "source": [
        "movie.info()"
      ]
    },
    {
      "cell_type": "markdown",
      "metadata": {
        "id": "O-QZurHd0oK7"
      },
      "source": [
        "- *We can see that the `movie title` and `release date` columns are of object type since these columns are having some text in them.* \n",
        "- *`release date` should be of date type, instead of object\n",
        "- *All the other columns are of integer type since they are containing numbers in them.*"
      ]
    },
    {
      "cell_type": "code",
      "execution_count": 10,
      "metadata": {
        "id": "S2myhop2cZDX"
      },
      "outputs": [],
      "source": [
        "# Converting the 'release date' column from object to a datetime variable\n",
        "movie['release_date'] = pd.to_datetime(movie['release date'], format = \"%d-%m-%Y\")\n",
        "# dropping the old 'release date' column\n",
        "movie.drop('release date',axis=1,inplace = True)"
      ]
    },
    {
      "cell_type": "code",
      "execution_count": 11,
      "metadata": {
        "colab": {
          "base_uri": "https://localhost:8080/",
          "height": 364
        },
        "id": "eToQDsEf4ZmW",
        "outputId": "c0110677-7fca-4f85-d708-e5466c4a4577"
      },
      "outputs": [
        {
          "data": {
            "text/html": [
              "<div>\n",
              "<style scoped>\n",
              "    .dataframe tbody tr th:only-of-type {\n",
              "        vertical-align: middle;\n",
              "    }\n",
              "\n",
              "    .dataframe tbody tr th {\n",
              "        vertical-align: top;\n",
              "    }\n",
              "\n",
              "    .dataframe thead th {\n",
              "        text-align: right;\n",
              "    }\n",
              "</style>\n",
              "<table border=\"1\" class=\"dataframe\">\n",
              "  <thead>\n",
              "    <tr style=\"text-align: right;\">\n",
              "      <th></th>\n",
              "      <th>count</th>\n",
              "      <th>unique</th>\n",
              "      <th>top</th>\n",
              "      <th>freq</th>\n",
              "      <th>mean</th>\n",
              "      <th>min</th>\n",
              "      <th>25%</th>\n",
              "      <th>50%</th>\n",
              "      <th>75%</th>\n",
              "      <th>max</th>\n",
              "      <th>std</th>\n",
              "    </tr>\n",
              "  </thead>\n",
              "  <tbody>\n",
              "    <tr>\n",
              "      <th>movie id</th>\n",
              "      <td>1680.0</td>\n",
              "      <td>NaN</td>\n",
              "      <td>NaN</td>\n",
              "      <td>NaN</td>\n",
              "      <td>841.525595</td>\n",
              "      <td>1.0</td>\n",
              "      <td>421.75</td>\n",
              "      <td>841.5</td>\n",
              "      <td>1261.25</td>\n",
              "      <td>1682.0</td>\n",
              "      <td>485.609591</td>\n",
              "    </tr>\n",
              "    <tr>\n",
              "      <th>movie title</th>\n",
              "      <td>1680</td>\n",
              "      <td>1657</td>\n",
              "      <td>That Darn Cat!</td>\n",
              "      <td>3</td>\n",
              "      <td>NaN</td>\n",
              "      <td>NaN</td>\n",
              "      <td>NaN</td>\n",
              "      <td>NaN</td>\n",
              "      <td>NaN</td>\n",
              "      <td>NaN</td>\n",
              "      <td>NaN</td>\n",
              "    </tr>\n",
              "    <tr>\n",
              "      <th>Action</th>\n",
              "      <td>1680.0</td>\n",
              "      <td>NaN</td>\n",
              "      <td>NaN</td>\n",
              "      <td>NaN</td>\n",
              "      <td>0.149405</td>\n",
              "      <td>0.0</td>\n",
              "      <td>0.0</td>\n",
              "      <td>0.0</td>\n",
              "      <td>0.0</td>\n",
              "      <td>1.0</td>\n",
              "      <td>0.356593</td>\n",
              "    </tr>\n",
              "    <tr>\n",
              "      <th>Adventure</th>\n",
              "      <td>1680.0</td>\n",
              "      <td>NaN</td>\n",
              "      <td>NaN</td>\n",
              "      <td>NaN</td>\n",
              "      <td>0.080357</td>\n",
              "      <td>0.0</td>\n",
              "      <td>0.0</td>\n",
              "      <td>0.0</td>\n",
              "      <td>0.0</td>\n",
              "      <td>1.0</td>\n",
              "      <td>0.271926</td>\n",
              "    </tr>\n",
              "    <tr>\n",
              "      <th>Animation</th>\n",
              "      <td>1680.0</td>\n",
              "      <td>NaN</td>\n",
              "      <td>NaN</td>\n",
              "      <td>NaN</td>\n",
              "      <td>0.025</td>\n",
              "      <td>0.0</td>\n",
              "      <td>0.0</td>\n",
              "      <td>0.0</td>\n",
              "      <td>0.0</td>\n",
              "      <td>1.0</td>\n",
              "      <td>0.156171</td>\n",
              "    </tr>\n",
              "    <tr>\n",
              "      <th>Childrens</th>\n",
              "      <td>1680.0</td>\n",
              "      <td>NaN</td>\n",
              "      <td>NaN</td>\n",
              "      <td>NaN</td>\n",
              "      <td>0.072619</td>\n",
              "      <td>0.0</td>\n",
              "      <td>0.0</td>\n",
              "      <td>0.0</td>\n",
              "      <td>0.0</td>\n",
              "      <td>1.0</td>\n",
              "      <td>0.259587</td>\n",
              "    </tr>\n",
              "    <tr>\n",
              "      <th>Comedy</th>\n",
              "      <td>1680.0</td>\n",
              "      <td>NaN</td>\n",
              "      <td>NaN</td>\n",
              "      <td>NaN</td>\n",
              "      <td>0.300595</td>\n",
              "      <td>0.0</td>\n",
              "      <td>0.0</td>\n",
              "      <td>0.0</td>\n",
              "      <td>1.0</td>\n",
              "      <td>1.0</td>\n",
              "      <td>0.458653</td>\n",
              "    </tr>\n",
              "    <tr>\n",
              "      <th>Crime</th>\n",
              "      <td>1680.0</td>\n",
              "      <td>NaN</td>\n",
              "      <td>NaN</td>\n",
              "      <td>NaN</td>\n",
              "      <td>0.064881</td>\n",
              "      <td>0.0</td>\n",
              "      <td>0.0</td>\n",
              "      <td>0.0</td>\n",
              "      <td>0.0</td>\n",
              "      <td>1.0</td>\n",
              "      <td>0.246389</td>\n",
              "    </tr>\n",
              "    <tr>\n",
              "      <th>Documentary</th>\n",
              "      <td>1680.0</td>\n",
              "      <td>NaN</td>\n",
              "      <td>NaN</td>\n",
              "      <td>NaN</td>\n",
              "      <td>0.029762</td>\n",
              "      <td>0.0</td>\n",
              "      <td>0.0</td>\n",
              "      <td>0.0</td>\n",
              "      <td>0.0</td>\n",
              "      <td>1.0</td>\n",
              "      <td>0.16998</td>\n",
              "    </tr>\n",
              "    <tr>\n",
              "      <th>Drama</th>\n",
              "      <td>1680.0</td>\n",
              "      <td>NaN</td>\n",
              "      <td>NaN</td>\n",
              "      <td>NaN</td>\n",
              "      <td>0.431548</td>\n",
              "      <td>0.0</td>\n",
              "      <td>0.0</td>\n",
              "      <td>0.0</td>\n",
              "      <td>1.0</td>\n",
              "      <td>1.0</td>\n",
              "      <td>0.49544</td>\n",
              "    </tr>\n",
              "    <tr>\n",
              "      <th>Fantasy</th>\n",
              "      <td>1680.0</td>\n",
              "      <td>NaN</td>\n",
              "      <td>NaN</td>\n",
              "      <td>NaN</td>\n",
              "      <td>0.013095</td>\n",
              "      <td>0.0</td>\n",
              "      <td>0.0</td>\n",
              "      <td>0.0</td>\n",
              "      <td>0.0</td>\n",
              "      <td>1.0</td>\n",
              "      <td>0.113717</td>\n",
              "    </tr>\n",
              "    <tr>\n",
              "      <th>Film-Noir</th>\n",
              "      <td>1680.0</td>\n",
              "      <td>NaN</td>\n",
              "      <td>NaN</td>\n",
              "      <td>NaN</td>\n",
              "      <td>0.014286</td>\n",
              "      <td>0.0</td>\n",
              "      <td>0.0</td>\n",
              "      <td>0.0</td>\n",
              "      <td>0.0</td>\n",
              "      <td>1.0</td>\n",
              "      <td>0.118701</td>\n",
              "    </tr>\n",
              "    <tr>\n",
              "      <th>Horror</th>\n",
              "      <td>1680.0</td>\n",
              "      <td>NaN</td>\n",
              "      <td>NaN</td>\n",
              "      <td>NaN</td>\n",
              "      <td>0.054762</td>\n",
              "      <td>0.0</td>\n",
              "      <td>0.0</td>\n",
              "      <td>0.0</td>\n",
              "      <td>0.0</td>\n",
              "      <td>1.0</td>\n",
              "      <td>0.227583</td>\n",
              "    </tr>\n",
              "    <tr>\n",
              "      <th>Musical</th>\n",
              "      <td>1680.0</td>\n",
              "      <td>NaN</td>\n",
              "      <td>NaN</td>\n",
              "      <td>NaN</td>\n",
              "      <td>0.033333</td>\n",
              "      <td>0.0</td>\n",
              "      <td>0.0</td>\n",
              "      <td>0.0</td>\n",
              "      <td>0.0</td>\n",
              "      <td>1.0</td>\n",
              "      <td>0.179559</td>\n",
              "    </tr>\n",
              "    <tr>\n",
              "      <th>Mystery</th>\n",
              "      <td>1680.0</td>\n",
              "      <td>NaN</td>\n",
              "      <td>NaN</td>\n",
              "      <td>NaN</td>\n",
              "      <td>0.03631</td>\n",
              "      <td>0.0</td>\n",
              "      <td>0.0</td>\n",
              "      <td>0.0</td>\n",
              "      <td>0.0</td>\n",
              "      <td>1.0</td>\n",
              "      <td>0.187115</td>\n",
              "    </tr>\n",
              "    <tr>\n",
              "      <th>Romance</th>\n",
              "      <td>1680.0</td>\n",
              "      <td>NaN</td>\n",
              "      <td>NaN</td>\n",
              "      <td>NaN</td>\n",
              "      <td>0.147024</td>\n",
              "      <td>0.0</td>\n",
              "      <td>0.0</td>\n",
              "      <td>0.0</td>\n",
              "      <td>0.0</td>\n",
              "      <td>1.0</td>\n",
              "      <td>0.354235</td>\n",
              "    </tr>\n",
              "    <tr>\n",
              "      <th>Sci-Fi</th>\n",
              "      <td>1680.0</td>\n",
              "      <td>NaN</td>\n",
              "      <td>NaN</td>\n",
              "      <td>NaN</td>\n",
              "      <td>0.060119</td>\n",
              "      <td>0.0</td>\n",
              "      <td>0.0</td>\n",
              "      <td>0.0</td>\n",
              "      <td>0.0</td>\n",
              "      <td>1.0</td>\n",
              "      <td>0.237778</td>\n",
              "    </tr>\n",
              "    <tr>\n",
              "      <th>Thriller</th>\n",
              "      <td>1680.0</td>\n",
              "      <td>NaN</td>\n",
              "      <td>NaN</td>\n",
              "      <td>NaN</td>\n",
              "      <td>0.149405</td>\n",
              "      <td>0.0</td>\n",
              "      <td>0.0</td>\n",
              "      <td>0.0</td>\n",
              "      <td>0.0</td>\n",
              "      <td>1.0</td>\n",
              "      <td>0.356593</td>\n",
              "    </tr>\n",
              "    <tr>\n",
              "      <th>War</th>\n",
              "      <td>1680.0</td>\n",
              "      <td>NaN</td>\n",
              "      <td>NaN</td>\n",
              "      <td>NaN</td>\n",
              "      <td>0.042262</td>\n",
              "      <td>0.0</td>\n",
              "      <td>0.0</td>\n",
              "      <td>0.0</td>\n",
              "      <td>0.0</td>\n",
              "      <td>1.0</td>\n",
              "      <td>0.201246</td>\n",
              "    </tr>\n",
              "    <tr>\n",
              "      <th>Western</th>\n",
              "      <td>1680.0</td>\n",
              "      <td>NaN</td>\n",
              "      <td>NaN</td>\n",
              "      <td>NaN</td>\n",
              "      <td>0.016071</td>\n",
              "      <td>0.0</td>\n",
              "      <td>0.0</td>\n",
              "      <td>0.0</td>\n",
              "      <td>0.0</td>\n",
              "      <td>1.0</td>\n",
              "      <td>0.125788</td>\n",
              "    </tr>\n",
              "    <tr>\n",
              "      <th>release_date</th>\n",
              "      <td>1680</td>\n",
              "      <td>NaN</td>\n",
              "      <td>NaN</td>\n",
              "      <td>NaN</td>\n",
              "      <td>1989-08-04 13:10:17.142857088</td>\n",
              "      <td>1922-01-01 00:00:00</td>\n",
              "      <td>1993-01-01 00:00:00</td>\n",
              "      <td>1995-01-01 00:00:00</td>\n",
              "      <td>1996-10-18 00:00:00</td>\n",
              "      <td>1998-10-23 00:00:00</td>\n",
              "      <td>NaN</td>\n",
              "    </tr>\n",
              "  </tbody>\n",
              "</table>\n",
              "</div>"
            ],
            "text/plain": [
              "               count unique              top freq  \\\n",
              "movie id      1680.0    NaN              NaN  NaN   \n",
              "movie title     1680   1657  That Darn Cat!     3   \n",
              "Action        1680.0    NaN              NaN  NaN   \n",
              "Adventure     1680.0    NaN              NaN  NaN   \n",
              "Animation     1680.0    NaN              NaN  NaN   \n",
              "Childrens     1680.0    NaN              NaN  NaN   \n",
              "Comedy        1680.0    NaN              NaN  NaN   \n",
              "Crime         1680.0    NaN              NaN  NaN   \n",
              "Documentary   1680.0    NaN              NaN  NaN   \n",
              "Drama         1680.0    NaN              NaN  NaN   \n",
              "Fantasy       1680.0    NaN              NaN  NaN   \n",
              "Film-Noir     1680.0    NaN              NaN  NaN   \n",
              "Horror        1680.0    NaN              NaN  NaN   \n",
              "Musical       1680.0    NaN              NaN  NaN   \n",
              "Mystery       1680.0    NaN              NaN  NaN   \n",
              "Romance       1680.0    NaN              NaN  NaN   \n",
              "Sci-Fi        1680.0    NaN              NaN  NaN   \n",
              "Thriller      1680.0    NaN              NaN  NaN   \n",
              "War           1680.0    NaN              NaN  NaN   \n",
              "Western       1680.0    NaN              NaN  NaN   \n",
              "release_date    1680    NaN              NaN  NaN   \n",
              "\n",
              "                                       mean                  min  \\\n",
              "movie id                         841.525595                  1.0   \n",
              "movie title                             NaN                  NaN   \n",
              "Action                             0.149405                  0.0   \n",
              "Adventure                          0.080357                  0.0   \n",
              "Animation                             0.025                  0.0   \n",
              "Childrens                          0.072619                  0.0   \n",
              "Comedy                             0.300595                  0.0   \n",
              "Crime                              0.064881                  0.0   \n",
              "Documentary                        0.029762                  0.0   \n",
              "Drama                              0.431548                  0.0   \n",
              "Fantasy                            0.013095                  0.0   \n",
              "Film-Noir                          0.014286                  0.0   \n",
              "Horror                             0.054762                  0.0   \n",
              "Musical                            0.033333                  0.0   \n",
              "Mystery                             0.03631                  0.0   \n",
              "Romance                            0.147024                  0.0   \n",
              "Sci-Fi                             0.060119                  0.0   \n",
              "Thriller                           0.149405                  0.0   \n",
              "War                                0.042262                  0.0   \n",
              "Western                            0.016071                  0.0   \n",
              "release_date  1989-08-04 13:10:17.142857088  1922-01-01 00:00:00   \n",
              "\n",
              "                              25%                  50%                  75%  \\\n",
              "movie id                   421.75                841.5              1261.25   \n",
              "movie title                   NaN                  NaN                  NaN   \n",
              "Action                        0.0                  0.0                  0.0   \n",
              "Adventure                     0.0                  0.0                  0.0   \n",
              "Animation                     0.0                  0.0                  0.0   \n",
              "Childrens                     0.0                  0.0                  0.0   \n",
              "Comedy                        0.0                  0.0                  1.0   \n",
              "Crime                         0.0                  0.0                  0.0   \n",
              "Documentary                   0.0                  0.0                  0.0   \n",
              "Drama                         0.0                  0.0                  1.0   \n",
              "Fantasy                       0.0                  0.0                  0.0   \n",
              "Film-Noir                     0.0                  0.0                  0.0   \n",
              "Horror                        0.0                  0.0                  0.0   \n",
              "Musical                       0.0                  0.0                  0.0   \n",
              "Mystery                       0.0                  0.0                  0.0   \n",
              "Romance                       0.0                  0.0                  0.0   \n",
              "Sci-Fi                        0.0                  0.0                  0.0   \n",
              "Thriller                      0.0                  0.0                  0.0   \n",
              "War                           0.0                  0.0                  0.0   \n",
              "Western                       0.0                  0.0                  0.0   \n",
              "release_date  1993-01-01 00:00:00  1995-01-01 00:00:00  1996-10-18 00:00:00   \n",
              "\n",
              "                              max         std  \n",
              "movie id                   1682.0  485.609591  \n",
              "movie title                   NaN         NaN  \n",
              "Action                        1.0    0.356593  \n",
              "Adventure                     1.0    0.271926  \n",
              "Animation                     1.0    0.156171  \n",
              "Childrens                     1.0    0.259587  \n",
              "Comedy                        1.0    0.458653  \n",
              "Crime                         1.0    0.246389  \n",
              "Documentary                   1.0     0.16998  \n",
              "Drama                         1.0     0.49544  \n",
              "Fantasy                       1.0    0.113717  \n",
              "Film-Noir                     1.0    0.118701  \n",
              "Horror                        1.0    0.227583  \n",
              "Musical                       1.0    0.179559  \n",
              "Mystery                       1.0    0.187115  \n",
              "Romance                       1.0    0.354235  \n",
              "Sci-Fi                        1.0    0.237778  \n",
              "Thriller                      1.0    0.356593  \n",
              "War                           1.0    0.201246  \n",
              "Western                       1.0    0.125788  \n",
              "release_date  1998-10-23 00:00:00         NaN  "
            ]
          },
          "execution_count": 11,
          "metadata": {},
          "output_type": "execute_result"
        }
      ],
      "source": [
        "movie.describe(include='all').T"
      ]
    },
    {
      "cell_type": "markdown",
      "metadata": {
        "id": "w18tb-iVAiAa"
      },
      "source": [
        "- *The statistical summary of the `movie_id` column will not yield meaningful insights as it is a unique identifier of each of the movies.*\n",
        "- *`Release_date` data contains movies released from 1922 thru 1998*\n",
        "- *The statistical summary of the columns related to genres is also not much helpful since these columns consists of only 0s and 1s values.*"
      ]
    },
    {
      "cell_type": "markdown",
      "metadata": {
        "id": "pbKtKdvwGuuN"
      },
      "source": [
        "#### Ratings"
      ]
    },
    {
      "cell_type": "code",
      "execution_count": 12,
      "metadata": {
        "colab": {
          "base_uri": "https://localhost:8080/",
          "height": 206
        },
        "id": "Kya0ShCfHL9E",
        "outputId": "23c46aeb-6682-49b9-e0a6-0693c53ca50c"
      },
      "outputs": [
        {
          "data": {
            "text/html": [
              "<div>\n",
              "<style scoped>\n",
              "    .dataframe tbody tr th:only-of-type {\n",
              "        vertical-align: middle;\n",
              "    }\n",
              "\n",
              "    .dataframe tbody tr th {\n",
              "        vertical-align: top;\n",
              "    }\n",
              "\n",
              "    .dataframe thead th {\n",
              "        text-align: right;\n",
              "    }\n",
              "</style>\n",
              "<table border=\"1\" class=\"dataframe\">\n",
              "  <thead>\n",
              "    <tr style=\"text-align: right;\">\n",
              "      <th></th>\n",
              "      <th>user id</th>\n",
              "      <th>movie id</th>\n",
              "      <th>rating</th>\n",
              "      <th>timestamp</th>\n",
              "    </tr>\n",
              "  </thead>\n",
              "  <tbody>\n",
              "    <tr>\n",
              "      <th>0</th>\n",
              "      <td>196</td>\n",
              "      <td>242</td>\n",
              "      <td>3</td>\n",
              "      <td>881250949</td>\n",
              "    </tr>\n",
              "    <tr>\n",
              "      <th>1</th>\n",
              "      <td>186</td>\n",
              "      <td>302</td>\n",
              "      <td>3</td>\n",
              "      <td>891717742</td>\n",
              "    </tr>\n",
              "    <tr>\n",
              "      <th>2</th>\n",
              "      <td>22</td>\n",
              "      <td>377</td>\n",
              "      <td>1</td>\n",
              "      <td>878887116</td>\n",
              "    </tr>\n",
              "    <tr>\n",
              "      <th>3</th>\n",
              "      <td>244</td>\n",
              "      <td>51</td>\n",
              "      <td>2</td>\n",
              "      <td>880606923</td>\n",
              "    </tr>\n",
              "    <tr>\n",
              "      <th>4</th>\n",
              "      <td>166</td>\n",
              "      <td>346</td>\n",
              "      <td>1</td>\n",
              "      <td>886397596</td>\n",
              "    </tr>\n",
              "  </tbody>\n",
              "</table>\n",
              "</div>"
            ],
            "text/plain": [
              "   user id  movie id  rating  timestamp\n",
              "0      196       242       3  881250949\n",
              "1      186       302       3  891717742\n",
              "2       22       377       1  878887116\n",
              "3      244        51       2  880606923\n",
              "4      166       346       1  886397596"
            ]
          },
          "execution_count": 12,
          "metadata": {},
          "output_type": "execute_result"
        }
      ],
      "source": [
        "ratings.head()"
      ]
    },
    {
      "cell_type": "markdown",
      "metadata": {
        "id": "SuzxSoT2HWF9"
      },
      "source": [
        "- *The ratings dataframe contains information about the ratings given by the users to a particular movie.*"
      ]
    },
    {
      "cell_type": "code",
      "execution_count": 13,
      "metadata": {
        "colab": {
          "base_uri": "https://localhost:8080/"
        },
        "id": "WoTppoPIHjp-",
        "outputId": "9aed633c-0d49-4bac-dfdc-e1b08d793745"
      },
      "outputs": [
        {
          "data": {
            "text/plain": [
              "(100000, 4)"
            ]
          },
          "execution_count": 13,
          "metadata": {},
          "output_type": "execute_result"
        }
      ],
      "source": [
        "ratings.shape"
      ]
    },
    {
      "cell_type": "markdown",
      "metadata": {
        "id": "9p5sXEsvHtYl"
      },
      "source": [
        "- *There are 100,000 rows and 4 columns in the ratings dataset. This is quite a large dataset as compared to the previous two dataframes.*"
      ]
    },
    {
      "cell_type": "code",
      "execution_count": 14,
      "metadata": {
        "colab": {
          "base_uri": "https://localhost:8080/"
        },
        "id": "4QMNRqnNIJi0",
        "outputId": "ad68ffce-2a2f-4e6c-c177-ca45c4e401a4"
      },
      "outputs": [
        {
          "name": "stdout",
          "output_type": "stream",
          "text": [
            "<class 'pandas.core.frame.DataFrame'>\n",
            "RangeIndex: 100000 entries, 0 to 99999\n",
            "Data columns (total 4 columns):\n",
            " #   Column     Non-Null Count   Dtype\n",
            "---  ------     --------------   -----\n",
            " 0   user id    100000 non-null  int64\n",
            " 1   movie id   100000 non-null  int64\n",
            " 2   rating     100000 non-null  int64\n",
            " 3   timestamp  100000 non-null  int64\n",
            "dtypes: int64(4)\n",
            "memory usage: 3.1 MB\n"
          ]
        }
      ],
      "source": [
        "ratings.info()"
      ]
    },
    {
      "cell_type": "code",
      "execution_count": 15,
      "metadata": {
        "colab": {
          "base_uri": "https://localhost:8080/",
          "height": 300
        },
        "id": "EfzKTfhlItpB",
        "outputId": "0e71201d-2099-4bb0-fc1e-02b9a311328f"
      },
      "outputs": [
        {
          "data": {
            "text/html": [
              "<div>\n",
              "<style scoped>\n",
              "    .dataframe tbody tr th:only-of-type {\n",
              "        vertical-align: middle;\n",
              "    }\n",
              "\n",
              "    .dataframe tbody tr th {\n",
              "        vertical-align: top;\n",
              "    }\n",
              "\n",
              "    .dataframe thead th {\n",
              "        text-align: right;\n",
              "    }\n",
              "</style>\n",
              "<table border=\"1\" class=\"dataframe\">\n",
              "  <thead>\n",
              "    <tr style=\"text-align: right;\">\n",
              "      <th></th>\n",
              "      <th>count</th>\n",
              "      <th>mean</th>\n",
              "      <th>std</th>\n",
              "      <th>min</th>\n",
              "      <th>25%</th>\n",
              "      <th>50%</th>\n",
              "      <th>75%</th>\n",
              "      <th>max</th>\n",
              "    </tr>\n",
              "  </thead>\n",
              "  <tbody>\n",
              "    <tr>\n",
              "      <th>user id</th>\n",
              "      <td>100000.0</td>\n",
              "      <td>4.624848e+02</td>\n",
              "      <td>2.666144e+02</td>\n",
              "      <td>1.0</td>\n",
              "      <td>254.0</td>\n",
              "      <td>447.0</td>\n",
              "      <td>682.0</td>\n",
              "      <td>943.0</td>\n",
              "    </tr>\n",
              "    <tr>\n",
              "      <th>movie id</th>\n",
              "      <td>100000.0</td>\n",
              "      <td>4.255301e+02</td>\n",
              "      <td>3.307984e+02</td>\n",
              "      <td>1.0</td>\n",
              "      <td>175.0</td>\n",
              "      <td>322.0</td>\n",
              "      <td>631.0</td>\n",
              "      <td>1682.0</td>\n",
              "    </tr>\n",
              "    <tr>\n",
              "      <th>rating</th>\n",
              "      <td>100000.0</td>\n",
              "      <td>3.529860e+00</td>\n",
              "      <td>1.125674e+00</td>\n",
              "      <td>1.0</td>\n",
              "      <td>3.0</td>\n",
              "      <td>4.0</td>\n",
              "      <td>4.0</td>\n",
              "      <td>5.0</td>\n",
              "    </tr>\n",
              "    <tr>\n",
              "      <th>timestamp</th>\n",
              "      <td>100000.0</td>\n",
              "      <td>8.835289e+08</td>\n",
              "      <td>5.343856e+06</td>\n",
              "      <td>874724710.0</td>\n",
              "      <td>879448709.5</td>\n",
              "      <td>882826944.0</td>\n",
              "      <td>888259984.0</td>\n",
              "      <td>893286638.0</td>\n",
              "    </tr>\n",
              "  </tbody>\n",
              "</table>\n",
              "</div>"
            ],
            "text/plain": [
              "              count          mean           std          min          25%  \\\n",
              "user id    100000.0  4.624848e+02  2.666144e+02          1.0        254.0   \n",
              "movie id   100000.0  4.255301e+02  3.307984e+02          1.0        175.0   \n",
              "rating     100000.0  3.529860e+00  1.125674e+00          1.0          3.0   \n",
              "timestamp  100000.0  8.835289e+08  5.343856e+06  874724710.0  879448709.5   \n",
              "\n",
              "                   50%          75%          max  \n",
              "user id          447.0        682.0        943.0  \n",
              "movie id         322.0        631.0       1682.0  \n",
              "rating             4.0          4.0          5.0  \n",
              "timestamp  882826944.0  888259984.0  893286638.0  "
            ]
          },
          "execution_count": 15,
          "metadata": {},
          "output_type": "execute_result"
        }
      ],
      "source": [
        "ratings.describe().T"
      ]
    },
    {
      "cell_type": "markdown",
      "metadata": {
        "id": "zOmSCKlvJFYR"
      },
      "source": [
        "- *The numbers for the `timestamp` column do not convey any meaningful insights.*\n",
        "- *`rating` average rating of all the movies is around 3.53 while the ratings ranges from 1 to 5.*"
      ]
    },
    {
      "cell_type": "markdown",
      "metadata": {
        "id": "g9Wtc4L6cZDX"
      },
      "source": [
        "**What is the trend of the number of movies released after 1990?**"
      ]
    },
    {
      "cell_type": "markdown",
      "metadata": {
        "id": "WcrbKknncZDX"
      },
      "source": [
        "Now, let's extract the `Years` from the release dates and create a column in the `movie` dataframe -"
      ]
    },
    {
      "cell_type": "code",
      "execution_count": 16,
      "metadata": {
        "colab": {
          "base_uri": "https://localhost:8080/"
        },
        "id": "xU3Crmf3cZDX",
        "outputId": "a12587a3-1bfa-41e9-a3e9-1b10f6b533cb"
      },
      "outputs": [
        {
          "data": {
            "image/png": "[encoded data removed]",
            "text/plain": [
              "<Figure size 1200x600 with 1 Axes>"
            ]
          },
          "metadata": {},
          "output_type": "display_data"
        }
      ],
      "source": [
        "# extracting Year using datetime.year method\n",
        "movie['Year'] = movie['release_date'].dt.year\n",
        "\n",
        "# movie[movie['Year']>1990]['Year'].value_counts().sort_index().plot(kind='bar', figsize=(12, 6), color='skyblue')\n",
        "# # movie[movie['Year']>1990]['Year'].value_counts().plot(kind='bar', figsize=(12, 6), color='skyblue')\n",
        "# plt.title('Number of Movies Released After 1990')\n",
        "# plt.xlabel('Year')\n",
        "# plt.ylabel('Number of Movies')\n",
        "# plt.xticks(rotation=45)\n",
        "# plt.grid(axis='y', linestyle='--', alpha=0.7)\n",
        "# plt.show()\n",
        "\n",
        "# Prepare the data\n",
        "counts = movie[movie['Year'] > 1990]['Year'].value_counts().sort_index()\n",
        "\n",
        "# Create the bar plot\n",
        "ax = counts.plot(kind='bar', figsize=(12, 6), color='skyblue')\n",
        "\n",
        "plt.title('Number of Movies Released After 1990')\n",
        "plt.xlabel('Year')\n",
        "plt.ylabel('Number of Movies')\n",
        "plt.xticks(rotation=45)\n",
        "plt.grid(axis='y', linestyle='--', alpha=0.7)\n",
        "\n",
        "# Add the number of movies on top of each bar\n",
        "for p in ax.patches:\n",
        "    ax.annotate(str(int(p.get_height())), (p.get_x() + p.get_width() / 2, p.get_height()),\n",
        "                ha='center', va='bottom', fontsize=10, color='black')\n",
        "\n",
        "plt.show()"
      ]
    },
    {
      "cell_type": "markdown",
      "metadata": {
        "id": "5jf3L2hPcZDY"
      },
      "source": [
        "- *We can observe that the highest number of movies with 355 in total have been released in 1996. Also, we can see that the count of the number of movies released in each year is increasing except for 1997 and 1998. So it can be said that, overall there is an upward trend in the number of movie released between the year 1991 and 1998.*\n",
        "- *The top five 'years' with the highest number of movies released are '1996', '1997', '1995', '1994', and '1993'.* "
      ]
    },
    {
      "cell_type": "markdown",
      "metadata": {
        "id": "CmfHRQUTnsYy"
      },
      "source": [
        "**How many movies belong to a particular genre?**"
      ]
    },
    {
      "cell_type": "code",
      "execution_count": 17,
      "metadata": {
        "colab": {
          "base_uri": "https://localhost:8080/",
          "height": 305
        },
        "id": "edUNcMDeieDs",
        "outputId": "b4dcd9c0-5edd-410b-82da-18457c036384"
      },
      "outputs": [
        {
          "data": {
            "text/html": [
              "<div>\n",
              "<style scoped>\n",
              "    .dataframe tbody tr th:only-of-type {\n",
              "        vertical-align: middle;\n",
              "    }\n",
              "\n",
              "    .dataframe tbody tr th {\n",
              "        vertical-align: top;\n",
              "    }\n",
              "\n",
              "    .dataframe thead th {\n",
              "        text-align: right;\n",
              "    }\n",
              "</style>\n",
              "<table border=\"1\" class=\"dataframe\">\n",
              "  <thead>\n",
              "    <tr style=\"text-align: right;\">\n",
              "      <th></th>\n",
              "      <th>movie id</th>\n",
              "      <th>movie title</th>\n",
              "      <th>Action</th>\n",
              "      <th>Adventure</th>\n",
              "      <th>Animation</th>\n",
              "      <th>Childrens</th>\n",
              "      <th>Comedy</th>\n",
              "      <th>Crime</th>\n",
              "      <th>Documentary</th>\n",
              "      <th>Drama</th>\n",
              "      <th>...</th>\n",
              "      <th>Horror</th>\n",
              "      <th>Musical</th>\n",
              "      <th>Mystery</th>\n",
              "      <th>Romance</th>\n",
              "      <th>Sci-Fi</th>\n",
              "      <th>Thriller</th>\n",
              "      <th>War</th>\n",
              "      <th>Western</th>\n",
              "      <th>release_date</th>\n",
              "      <th>Year</th>\n",
              "    </tr>\n",
              "  </thead>\n",
              "  <tbody>\n",
              "    <tr>\n",
              "      <th>0</th>\n",
              "      <td>1</td>\n",
              "      <td>Toy Story</td>\n",
              "      <td>0</td>\n",
              "      <td>0</td>\n",
              "      <td>1</td>\n",
              "      <td>1</td>\n",
              "      <td>1</td>\n",
              "      <td>0</td>\n",
              "      <td>0</td>\n",
              "      <td>0</td>\n",
              "      <td>...</td>\n",
              "      <td>0</td>\n",
              "      <td>0</td>\n",
              "      <td>0</td>\n",
              "      <td>0</td>\n",
              "      <td>0</td>\n",
              "      <td>0</td>\n",
              "      <td>0</td>\n",
              "      <td>0</td>\n",
              "      <td>1995-01-01</td>\n",
              "      <td>1995</td>\n",
              "    </tr>\n",
              "    <tr>\n",
              "      <th>1</th>\n",
              "      <td>2</td>\n",
              "      <td>GoldenEye</td>\n",
              "      <td>1</td>\n",
              "      <td>1</td>\n",
              "      <td>0</td>\n",
              "      <td>0</td>\n",
              "      <td>0</td>\n",
              "      <td>0</td>\n",
              "      <td>0</td>\n",
              "      <td>0</td>\n",
              "      <td>...</td>\n",
              "      <td>0</td>\n",
              "      <td>0</td>\n",
              "      <td>0</td>\n",
              "      <td>0</td>\n",
              "      <td>0</td>\n",
              "      <td>1</td>\n",
              "      <td>0</td>\n",
              "      <td>0</td>\n",
              "      <td>1995-01-01</td>\n",
              "      <td>1995</td>\n",
              "    </tr>\n",
              "    <tr>\n",
              "      <th>2</th>\n",
              "      <td>3</td>\n",
              "      <td>Four Rooms</td>\n",
              "      <td>0</td>\n",
              "      <td>0</td>\n",
              "      <td>0</td>\n",
              "      <td>0</td>\n",
              "      <td>0</td>\n",
              "      <td>0</td>\n",
              "      <td>0</td>\n",
              "      <td>0</td>\n",
              "      <td>...</td>\n",
              "      <td>0</td>\n",
              "      <td>0</td>\n",
              "      <td>0</td>\n",
              "      <td>0</td>\n",
              "      <td>0</td>\n",
              "      <td>1</td>\n",
              "      <td>0</td>\n",
              "      <td>0</td>\n",
              "      <td>1995-01-01</td>\n",
              "      <td>1995</td>\n",
              "    </tr>\n",
              "    <tr>\n",
              "      <th>3</th>\n",
              "      <td>4</td>\n",
              "      <td>Get Shorty</td>\n",
              "      <td>1</td>\n",
              "      <td>0</td>\n",
              "      <td>0</td>\n",
              "      <td>0</td>\n",
              "      <td>1</td>\n",
              "      <td>0</td>\n",
              "      <td>0</td>\n",
              "      <td>1</td>\n",
              "      <td>...</td>\n",
              "      <td>0</td>\n",
              "      <td>0</td>\n",
              "      <td>0</td>\n",
              "      <td>0</td>\n",
              "      <td>0</td>\n",
              "      <td>0</td>\n",
              "      <td>0</td>\n",
              "      <td>0</td>\n",
              "      <td>1995-01-01</td>\n",
              "      <td>1995</td>\n",
              "    </tr>\n",
              "    <tr>\n",
              "      <th>4</th>\n",
              "      <td>5</td>\n",
              "      <td>Copycat</td>\n",
              "      <td>0</td>\n",
              "      <td>0</td>\n",
              "      <td>0</td>\n",
              "      <td>0</td>\n",
              "      <td>0</td>\n",
              "      <td>1</td>\n",
              "      <td>0</td>\n",
              "      <td>1</td>\n",
              "      <td>...</td>\n",
              "      <td>0</td>\n",
              "      <td>0</td>\n",
              "      <td>0</td>\n",
              "      <td>0</td>\n",
              "      <td>0</td>\n",
              "      <td>1</td>\n",
              "      <td>0</td>\n",
              "      <td>0</td>\n",
              "      <td>1995-01-01</td>\n",
              "      <td>1995</td>\n",
              "    </tr>\n",
              "  </tbody>\n",
              "</table>\n",
              "<p>5 rows × 22 columns</p>\n",
              "</div>"
            ],
            "text/plain": [
              "   movie id  movie title  Action  Adventure  Animation  Childrens  Comedy  \\\n",
              "0         1   Toy Story        0          0          1          1       1   \n",
              "1         2   GoldenEye        1          1          0          0       0   \n",
              "2         3  Four Rooms        0          0          0          0       0   \n",
              "3         4  Get Shorty        1          0          0          0       1   \n",
              "4         5     Copycat        0          0          0          0       0   \n",
              "\n",
              "   Crime  Documentary  Drama  ...  Horror  Musical  Mystery  Romance  Sci-Fi  \\\n",
              "0      0            0      0  ...       0        0        0        0       0   \n",
              "1      0            0      0  ...       0        0        0        0       0   \n",
              "2      0            0      0  ...       0        0        0        0       0   \n",
              "3      0            0      1  ...       0        0        0        0       0   \n",
              "4      1            0      1  ...       0        0        0        0       0   \n",
              "\n",
              "   Thriller  War  Western  release_date  Year  \n",
              "0         0    0        0    1995-01-01  1995  \n",
              "1         1    0        0    1995-01-01  1995  \n",
              "2         1    0        0    1995-01-01  1995  \n",
              "3         0    0        0    1995-01-01  1995  \n",
              "4         1    0        0    1995-01-01  1995  \n",
              "\n",
              "[5 rows x 22 columns]"
            ]
          },
          "execution_count": 17,
          "metadata": {},
          "output_type": "execute_result"
        }
      ],
      "source": [
        "movie.head()"
      ]
    },
    {
      "cell_type": "code",
      "execution_count": 18,
      "metadata": {
        "colab": {
          "base_uri": "https://localhost:8080/"
        },
        "id": "GxbSbCMlj7as",
        "outputId": "f7bd072e-ffe3-4e84-ad4c-10c6edfdc34d"
      },
      "outputs": [
        {
          "data": {
            "text/plain": [
              "Index(['movie id', 'movie title', 'Action', 'Adventure', 'Animation',\n",
              "       'Childrens', 'Comedy', 'Crime', 'Documentary', 'Drama', 'Fantasy',\n",
              "       'Film-Noir', 'Horror', 'Musical', 'Mystery', 'Romance', 'Sci-Fi',\n",
              "       'Thriller', 'War', 'Western', 'release_date', 'Year'],\n",
              "      dtype='object')"
            ]
          },
          "execution_count": 18,
          "metadata": {},
          "output_type": "execute_result"
        }
      ],
      "source": [
        "movie.columns   # Checking the column names of the movie dataframe"
      ]
    },
    {
      "cell_type": "code",
      "execution_count": 19,
      "metadata": {
        "colab": {
          "base_uri": "https://localhost:8080/"
        },
        "id": "MK8lM34CUJ2T",
        "outputId": "74bed783-585e-4b17-c2fd-f1a7def87613"
      },
      "outputs": [
        {
          "data": {
            "text/plain": [
              "22"
            ]
          },
          "execution_count": 19,
          "metadata": {},
          "output_type": "execute_result"
        }
      ],
      "source": [
        "len(movie.columns) # Checking the number of columns in the movie dataframe"
      ]
    },
    {
      "cell_type": "code",
      "execution_count": 20,
      "metadata": {
        "colab": {
          "base_uri": "https://localhost:8080/"
        },
        "id": "Cer1pU8aSPjl",
        "outputId": "0d3c36ba-fc8f-4f79-f6ce-b3f7dfd710d9"
      },
      "outputs": [
        {
          "data": {
            "text/plain": [
              "{'Action': 251,\n",
              " 'Adventure': 135,\n",
              " 'Animation': 42,\n",
              " 'Childrens': 122,\n",
              " 'Comedy': 505,\n",
              " 'Crime': 109,\n",
              " 'Documentary': 50,\n",
              " 'Drama': 725,\n",
              " 'Fantasy': 22,\n",
              " 'Film-Noir': 24,\n",
              " 'Horror': 92,\n",
              " 'Musical': 56,\n",
              " 'Mystery': 61,\n",
              " 'Romance': 247,\n",
              " 'Sci-Fi': 101,\n",
              " 'Thriller': 251,\n",
              " 'War': 71,\n",
              " 'Western': 27}"
            ]
          },
          "execution_count": 20,
          "metadata": {},
          "output_type": "execute_result"
        }
      ],
      "source": [
        "# extracting the genre columns\n",
        "genres = movie.columns[2:20]\n",
        "\n",
        "# Counting the number of movies in each genre\n",
        "genre_counts = {genre: movie[genre].sum() for genre in genres}\n",
        "genre_counts "
      ]
    },
    {
      "cell_type": "code",
      "execution_count": 21,
      "metadata": {
        "colab": {
          "base_uri": "https://localhost:8080/"
        },
        "id": "cfyof8v9rd55",
        "outputId": "07d7a10d-3390-4e13-de5d-80270f5a0b48"
      },
      "outputs": [
        {
          "data": {
            "text/plain": [
              "Drama          725\n",
              "Comedy         505\n",
              "Action         251\n",
              "Thriller       251\n",
              "Romance        247\n",
              "Adventure      135\n",
              "Childrens      122\n",
              "Crime          109\n",
              "Sci-Fi         101\n",
              "Horror          92\n",
              "War             71\n",
              "Mystery         61\n",
              "Musical         56\n",
              "Documentary     50\n",
              "Animation       42\n",
              "Western         27\n",
              "Film-Noir       24\n",
              "Fantasy         22\n",
              "dtype: int64"
            ]
          },
          "execution_count": 21,
          "metadata": {},
          "output_type": "execute_result"
        }
      ],
      "source": [
        "# using list slicing to create a list which only contains the genres\n",
        "movie[genres].sum().sort_values(ascending=False)"
      ]
    },
    {
      "cell_type": "code",
      "execution_count": 22,
      "metadata": {},
      "outputs": [
        {
          "data": {
            "image/png": "[encoded data removed]",
            "text/plain": [
              "<Figure size 1200x600 with 1 Axes>"
            ]
          },
          "metadata": {},
          "output_type": "display_data"
        }
      ],
      "source": [
        "ax = movie[genres].sum().sort_values(ascending=False).plot(kind='bar', figsize=(12, 6), color='skyblue')\n",
        "plt.title('Number of Movies in Each Genre')\n",
        "plt.xlabel('Genre')\n",
        "plt.ylabel('Number of Movies')\n",
        "plt.xticks(rotation=45)\n",
        "plt.grid(axis='y', linestyle='--', alpha=0.7)\n",
        "\n",
        "# Add count labels on top of each bar\n",
        "for p in ax.patches:\n",
        "    ax.annotate(str(int(p.get_height())), (p.get_x() + p.get_width() / 2, p.get_height()),\n",
        "                ha='center', va='bottom', fontsize=10, color='black')\n",
        "\n",
        "plt.show()"
      ]
    },
    {
      "cell_type": "markdown",
      "metadata": {
        "id": "zYGBdi8nLk0g"
      },
      "source": [
        "- *'Drama' genre has the highest number of movies with 725 in total followed by 'Comedy' at 505* \n",
        "- *The top five genres with the highest number of movies are 'Drama', 'Comedy', 'Action', 'Thriller', and 'Romance'* \n",
        "- *'Fantasy' genre has the lowest number of movies (22 in count)* "
      ]
    },
    {
      "cell_type": "markdown",
      "metadata": {
        "id": "HSHWlipgOVs8"
      },
      "source": [
        "**Which movies have more than one genre?**"
      ]
    },
    {
      "cell_type": "markdown",
      "metadata": {
        "id": "VC3joRPmPowX"
      },
      "source": [
        "Here is what we need to do - \n",
        "- For each row, add all the genres (1's) into a new column, then pick all the rows with more than 1"
      ]
    },
    {
      "cell_type": "code",
      "execution_count": 23,
      "metadata": {
        "id": "Oty1JtN7OUha"
      },
      "outputs": [],
      "source": [
        "movie[\"Number of Genres\"] = movie.loc[:, genres].sum(axis=1) # sum along the row. "
      ]
    },
    {
      "cell_type": "code",
      "execution_count": 24,
      "metadata": {
        "colab": {
          "base_uri": "https://localhost:8080/",
          "height": 592
        },
        "id": "AOq1yKNFRdI6",
        "outputId": "63e300c0-e154-4e41-86ab-b0337389d308"
      },
      "outputs": [
        {
          "data": {
            "text/plain": [
              "(849, 23)"
            ]
          },
          "execution_count": 24,
          "metadata": {},
          "output_type": "execute_result"
        }
      ],
      "source": [
        "movie[movie['Number of Genres']>1].shape #this will subset the data as per the given condition"
      ]
    },
    {
      "cell_type": "code",
      "execution_count": 25,
      "metadata": {
        "colab": {
          "base_uri": "https://localhost:8080/"
        },
        "id": "nej3cdqiUdox",
        "outputId": "8e3dc52d-5eed-4eb9-f365-79f609d89994"
      },
      "outputs": [
        {
          "name": "stdout",
          "output_type": "stream",
          "text": [
            "Percentage of movies with more than one genre: 50.54%\n"
          ]
        }
      ],
      "source": [
        "# calculate % of movies with more than one genre\n",
        "percentage_more_than_one_genre = (movie[movie['Number of Genres'] > 1].shape[0] / movie.shape[0]) * 100\n",
        "print(f\"Percentage of movies with more than one genre: {percentage_more_than_one_genre:.2f}%\")  "
      ]
    },
    {
      "cell_type": "markdown",
      "metadata": {
        "id": "A8AC50Ks6CmM"
      },
      "source": [
        "**Can we find the genres that are most liked by the users?**\n"
      ]
    },
    {
      "cell_type": "markdown",
      "metadata": {
        "id": "Jv3tSPxt8FdK"
      },
      "source": [
        "*We will need to join `movie` dataset with `rating` dataset on column `movie_id`*\n",
        "\n",
        "\n",
        "**SQL correlation - Something to remember**\n",
        "\n",
        "`INNER JOIN` - `pd.merge(df1,df2,how='inner')` - Returns records that have matching values in both tables <br>\n",
        "`LEFT JOIN` - `pd.merge(df1,df2,how='left')` - Returns all records from the left table that have matched records from the right table<br>\n",
        "`RIGHT JOIN` - `pd.merge(df1,df2,how='right')` - Returns all records from right table, that have matched records from the left table<br>\n",
        "`OUTER JOIN` - `pd.merge(df1,df2,how='outer')` - Returns all records from left and right where there is match"
      ]
    },
    {
      "cell_type": "code",
      "execution_count": 26,
      "metadata": {
        "colab": {
          "base_uri": "https://localhost:8080/",
          "height": 391
        },
        "id": "E6Zcn0KKAFMV",
        "outputId": "1038f8f8-849e-4ab4-9dc7-345baa5dbf52"
      },
      "outputs": [
        {
          "data": {
            "text/html": [
              "<div>\n",
              "<style scoped>\n",
              "    .dataframe tbody tr th:only-of-type {\n",
              "        vertical-align: middle;\n",
              "    }\n",
              "\n",
              "    .dataframe tbody tr th {\n",
              "        vertical-align: top;\n",
              "    }\n",
              "\n",
              "    .dataframe thead th {\n",
              "        text-align: right;\n",
              "    }\n",
              "</style>\n",
              "<table border=\"1\" class=\"dataframe\">\n",
              "  <thead>\n",
              "    <tr style=\"text-align: right;\">\n",
              "      <th></th>\n",
              "      <th>movie id</th>\n",
              "      <th>movie title</th>\n",
              "      <th>Action</th>\n",
              "      <th>Adventure</th>\n",
              "      <th>Animation</th>\n",
              "      <th>Childrens</th>\n",
              "      <th>Comedy</th>\n",
              "      <th>Crime</th>\n",
              "      <th>Documentary</th>\n",
              "      <th>Drama</th>\n",
              "      <th>...</th>\n",
              "      <th>Sci-Fi</th>\n",
              "      <th>Thriller</th>\n",
              "      <th>War</th>\n",
              "      <th>Western</th>\n",
              "      <th>release_date</th>\n",
              "      <th>Year</th>\n",
              "      <th>Number of Genres</th>\n",
              "      <th>user id</th>\n",
              "      <th>rating</th>\n",
              "      <th>timestamp</th>\n",
              "    </tr>\n",
              "  </thead>\n",
              "  <tbody>\n",
              "    <tr>\n",
              "      <th>0</th>\n",
              "      <td>1</td>\n",
              "      <td>Toy Story</td>\n",
              "      <td>0</td>\n",
              "      <td>0</td>\n",
              "      <td>1</td>\n",
              "      <td>1</td>\n",
              "      <td>1</td>\n",
              "      <td>0</td>\n",
              "      <td>0</td>\n",
              "      <td>0</td>\n",
              "      <td>...</td>\n",
              "      <td>0</td>\n",
              "      <td>0</td>\n",
              "      <td>0</td>\n",
              "      <td>0</td>\n",
              "      <td>1995-01-01</td>\n",
              "      <td>1995</td>\n",
              "      <td>3</td>\n",
              "      <td>308</td>\n",
              "      <td>4</td>\n",
              "      <td>887736532</td>\n",
              "    </tr>\n",
              "    <tr>\n",
              "      <th>1</th>\n",
              "      <td>1</td>\n",
              "      <td>Toy Story</td>\n",
              "      <td>0</td>\n",
              "      <td>0</td>\n",
              "      <td>1</td>\n",
              "      <td>1</td>\n",
              "      <td>1</td>\n",
              "      <td>0</td>\n",
              "      <td>0</td>\n",
              "      <td>0</td>\n",
              "      <td>...</td>\n",
              "      <td>0</td>\n",
              "      <td>0</td>\n",
              "      <td>0</td>\n",
              "      <td>0</td>\n",
              "      <td>1995-01-01</td>\n",
              "      <td>1995</td>\n",
              "      <td>3</td>\n",
              "      <td>287</td>\n",
              "      <td>5</td>\n",
              "      <td>875334088</td>\n",
              "    </tr>\n",
              "    <tr>\n",
              "      <th>2</th>\n",
              "      <td>1</td>\n",
              "      <td>Toy Story</td>\n",
              "      <td>0</td>\n",
              "      <td>0</td>\n",
              "      <td>1</td>\n",
              "      <td>1</td>\n",
              "      <td>1</td>\n",
              "      <td>0</td>\n",
              "      <td>0</td>\n",
              "      <td>0</td>\n",
              "      <td>...</td>\n",
              "      <td>0</td>\n",
              "      <td>0</td>\n",
              "      <td>0</td>\n",
              "      <td>0</td>\n",
              "      <td>1995-01-01</td>\n",
              "      <td>1995</td>\n",
              "      <td>3</td>\n",
              "      <td>148</td>\n",
              "      <td>4</td>\n",
              "      <td>877019411</td>\n",
              "    </tr>\n",
              "    <tr>\n",
              "      <th>3</th>\n",
              "      <td>1</td>\n",
              "      <td>Toy Story</td>\n",
              "      <td>0</td>\n",
              "      <td>0</td>\n",
              "      <td>1</td>\n",
              "      <td>1</td>\n",
              "      <td>1</td>\n",
              "      <td>0</td>\n",
              "      <td>0</td>\n",
              "      <td>0</td>\n",
              "      <td>...</td>\n",
              "      <td>0</td>\n",
              "      <td>0</td>\n",
              "      <td>0</td>\n",
              "      <td>0</td>\n",
              "      <td>1995-01-01</td>\n",
              "      <td>1995</td>\n",
              "      <td>3</td>\n",
              "      <td>280</td>\n",
              "      <td>4</td>\n",
              "      <td>891700426</td>\n",
              "    </tr>\n",
              "    <tr>\n",
              "      <th>4</th>\n",
              "      <td>1</td>\n",
              "      <td>Toy Story</td>\n",
              "      <td>0</td>\n",
              "      <td>0</td>\n",
              "      <td>1</td>\n",
              "      <td>1</td>\n",
              "      <td>1</td>\n",
              "      <td>0</td>\n",
              "      <td>0</td>\n",
              "      <td>0</td>\n",
              "      <td>...</td>\n",
              "      <td>0</td>\n",
              "      <td>0</td>\n",
              "      <td>0</td>\n",
              "      <td>0</td>\n",
              "      <td>1995-01-01</td>\n",
              "      <td>1995</td>\n",
              "      <td>3</td>\n",
              "      <td>66</td>\n",
              "      <td>3</td>\n",
              "      <td>883601324</td>\n",
              "    </tr>\n",
              "  </tbody>\n",
              "</table>\n",
              "<p>5 rows × 26 columns</p>\n",
              "</div>"
            ],
            "text/plain": [
              "   movie id movie title  Action  Adventure  Animation  Childrens  Comedy  \\\n",
              "0         1  Toy Story        0          0          1          1       1   \n",
              "1         1  Toy Story        0          0          1          1       1   \n",
              "2         1  Toy Story        0          0          1          1       1   \n",
              "3         1  Toy Story        0          0          1          1       1   \n",
              "4         1  Toy Story        0          0          1          1       1   \n",
              "\n",
              "   Crime  Documentary  Drama  ...  Sci-Fi  Thriller  War  Western  \\\n",
              "0      0            0      0  ...       0         0    0        0   \n",
              "1      0            0      0  ...       0         0    0        0   \n",
              "2      0            0      0  ...       0         0    0        0   \n",
              "3      0            0      0  ...       0         0    0        0   \n",
              "4      0            0      0  ...       0         0    0        0   \n",
              "\n",
              "   release_date  Year  Number of Genres  user id  rating  timestamp  \n",
              "0    1995-01-01  1995                 3      308       4  887736532  \n",
              "1    1995-01-01  1995                 3      287       5  875334088  \n",
              "2    1995-01-01  1995                 3      148       4  877019411  \n",
              "3    1995-01-01  1995                 3      280       4  891700426  \n",
              "4    1995-01-01  1995                 3       66       3  883601324  \n",
              "\n",
              "[5 rows x 26 columns]"
            ]
          },
          "execution_count": 26,
          "metadata": {},
          "output_type": "execute_result"
        }
      ],
      "source": [
        "df_merge = movie.merge(ratings, on = 'movie id', how = 'inner')\n",
        "df_merge.head()"
      ]
    },
    {
      "cell_type": "code",
      "execution_count": 27,
      "metadata": {},
      "outputs": [
        {
          "data": {
            "text/plain": [
              "(99990, 26)"
            ]
          },
          "execution_count": 27,
          "metadata": {},
          "output_type": "execute_result"
        }
      ],
      "source": [
        "df_merge.shape"
      ]
    },
    {
      "cell_type": "markdown",
      "metadata": {
        "id": "CsChuOZhCbY5"
      },
      "source": [
        "Follow 2 steps - \n",
        "- replace the 1's with actual rating from the user\n",
        "- find mean rating for each genre"
      ]
    },
    {
      "cell_type": "code",
      "execution_count": 28,
      "metadata": {
        "colab": {
          "base_uri": "https://localhost:8080/",
          "height": 287
        },
        "id": "Zb_ZbMtAh1LX",
        "outputId": "fc8acdd7-9d05-4e5f-a5b2-f41694a39ace"
      },
      "outputs": [
        {
          "data": {
            "text/html": [
              "<div>\n",
              "<style scoped>\n",
              "    .dataframe tbody tr th:only-of-type {\n",
              "        vertical-align: middle;\n",
              "    }\n",
              "\n",
              "    .dataframe tbody tr th {\n",
              "        vertical-align: top;\n",
              "    }\n",
              "\n",
              "    .dataframe thead th {\n",
              "        text-align: right;\n",
              "    }\n",
              "</style>\n",
              "<table border=\"1\" class=\"dataframe\">\n",
              "  <thead>\n",
              "    <tr style=\"text-align: right;\">\n",
              "      <th></th>\n",
              "      <th>Action</th>\n",
              "      <th>Adventure</th>\n",
              "      <th>Animation</th>\n",
              "      <th>Childrens</th>\n",
              "      <th>Comedy</th>\n",
              "      <th>Crime</th>\n",
              "      <th>Documentary</th>\n",
              "      <th>Drama</th>\n",
              "      <th>Fantasy</th>\n",
              "      <th>Film-Noir</th>\n",
              "      <th>Horror</th>\n",
              "      <th>Musical</th>\n",
              "      <th>Mystery</th>\n",
              "      <th>Romance</th>\n",
              "      <th>Sci-Fi</th>\n",
              "      <th>Thriller</th>\n",
              "      <th>War</th>\n",
              "      <th>Western</th>\n",
              "    </tr>\n",
              "  </thead>\n",
              "  <tbody>\n",
              "    <tr>\n",
              "      <th>0</th>\n",
              "      <td>NaN</td>\n",
              "      <td>NaN</td>\n",
              "      <td>4.0</td>\n",
              "      <td>4.0</td>\n",
              "      <td>4.0</td>\n",
              "      <td>NaN</td>\n",
              "      <td>NaN</td>\n",
              "      <td>NaN</td>\n",
              "      <td>NaN</td>\n",
              "      <td>NaN</td>\n",
              "      <td>NaN</td>\n",
              "      <td>NaN</td>\n",
              "      <td>NaN</td>\n",
              "      <td>NaN</td>\n",
              "      <td>NaN</td>\n",
              "      <td>NaN</td>\n",
              "      <td>NaN</td>\n",
              "      <td>NaN</td>\n",
              "    </tr>\n",
              "    <tr>\n",
              "      <th>1</th>\n",
              "      <td>NaN</td>\n",
              "      <td>NaN</td>\n",
              "      <td>5.0</td>\n",
              "      <td>5.0</td>\n",
              "      <td>5.0</td>\n",
              "      <td>NaN</td>\n",
              "      <td>NaN</td>\n",
              "      <td>NaN</td>\n",
              "      <td>NaN</td>\n",
              "      <td>NaN</td>\n",
              "      <td>NaN</td>\n",
              "      <td>NaN</td>\n",
              "      <td>NaN</td>\n",
              "      <td>NaN</td>\n",
              "      <td>NaN</td>\n",
              "      <td>NaN</td>\n",
              "      <td>NaN</td>\n",
              "      <td>NaN</td>\n",
              "    </tr>\n",
              "    <tr>\n",
              "      <th>2</th>\n",
              "      <td>NaN</td>\n",
              "      <td>NaN</td>\n",
              "      <td>4.0</td>\n",
              "      <td>4.0</td>\n",
              "      <td>4.0</td>\n",
              "      <td>NaN</td>\n",
              "      <td>NaN</td>\n",
              "      <td>NaN</td>\n",
              "      <td>NaN</td>\n",
              "      <td>NaN</td>\n",
              "      <td>NaN</td>\n",
              "      <td>NaN</td>\n",
              "      <td>NaN</td>\n",
              "      <td>NaN</td>\n",
              "      <td>NaN</td>\n",
              "      <td>NaN</td>\n",
              "      <td>NaN</td>\n",
              "      <td>NaN</td>\n",
              "    </tr>\n",
              "    <tr>\n",
              "      <th>3</th>\n",
              "      <td>NaN</td>\n",
              "      <td>NaN</td>\n",
              "      <td>4.0</td>\n",
              "      <td>4.0</td>\n",
              "      <td>4.0</td>\n",
              "      <td>NaN</td>\n",
              "      <td>NaN</td>\n",
              "      <td>NaN</td>\n",
              "      <td>NaN</td>\n",
              "      <td>NaN</td>\n",
              "      <td>NaN</td>\n",
              "      <td>NaN</td>\n",
              "      <td>NaN</td>\n",
              "      <td>NaN</td>\n",
              "      <td>NaN</td>\n",
              "      <td>NaN</td>\n",
              "      <td>NaN</td>\n",
              "      <td>NaN</td>\n",
              "    </tr>\n",
              "    <tr>\n",
              "      <th>4</th>\n",
              "      <td>NaN</td>\n",
              "      <td>NaN</td>\n",
              "      <td>3.0</td>\n",
              "      <td>3.0</td>\n",
              "      <td>3.0</td>\n",
              "      <td>NaN</td>\n",
              "      <td>NaN</td>\n",
              "      <td>NaN</td>\n",
              "      <td>NaN</td>\n",
              "      <td>NaN</td>\n",
              "      <td>NaN</td>\n",
              "      <td>NaN</td>\n",
              "      <td>NaN</td>\n",
              "      <td>NaN</td>\n",
              "      <td>NaN</td>\n",
              "      <td>NaN</td>\n",
              "      <td>NaN</td>\n",
              "      <td>NaN</td>\n",
              "    </tr>\n",
              "  </tbody>\n",
              "</table>\n",
              "</div>"
            ],
            "text/plain": [
              "   Action  Adventure  Animation  Childrens  Comedy  Crime  Documentary  Drama  \\\n",
              "0     NaN        NaN        4.0        4.0     4.0    NaN          NaN    NaN   \n",
              "1     NaN        NaN        5.0        5.0     5.0    NaN          NaN    NaN   \n",
              "2     NaN        NaN        4.0        4.0     4.0    NaN          NaN    NaN   \n",
              "3     NaN        NaN        4.0        4.0     4.0    NaN          NaN    NaN   \n",
              "4     NaN        NaN        3.0        3.0     3.0    NaN          NaN    NaN   \n",
              "\n",
              "   Fantasy  Film-Noir  Horror  Musical  Mystery  Romance  Sci-Fi  Thriller  \\\n",
              "0      NaN        NaN     NaN      NaN      NaN      NaN     NaN       NaN   \n",
              "1      NaN        NaN     NaN      NaN      NaN      NaN     NaN       NaN   \n",
              "2      NaN        NaN     NaN      NaN      NaN      NaN     NaN       NaN   \n",
              "3      NaN        NaN     NaN      NaN      NaN      NaN     NaN       NaN   \n",
              "4      NaN        NaN     NaN      NaN      NaN      NaN     NaN       NaN   \n",
              "\n",
              "   War  Western  \n",
              "0  NaN      NaN  \n",
              "1  NaN      NaN  \n",
              "2  NaN      NaN  \n",
              "3  NaN      NaN  \n",
              "4  NaN      NaN  "
            ]
          },
          "execution_count": 28,
          "metadata": {},
          "output_type": "execute_result"
        }
      ],
      "source": [
        "# creating an empty dataframe\n",
        "mean_rating = pd.DataFrame()\n",
        "\n",
        "# Iterating through the columns of df_merge to extract and store the ratings for each genre\n",
        "for i in genres:\n",
        "  mean_rating[i] = np.where(df_merge[i]==1,df_merge['rating'],np.nan)\n",
        "\n",
        "# printing the newly created dataframe\n",
        "mean_rating.head()"
      ]
    },
    {
      "cell_type": "code",
      "execution_count": 29,
      "metadata": {
        "colab": {
          "base_uri": "https://localhost:8080/"
        },
        "id": "_GF77Jylws3a",
        "outputId": "913ac788-f23e-43ee-e47e-702eb4b16634"
      },
      "outputs": [
        {
          "data": {
            "text/plain": [
              "Film-Noir      3.921523\n",
              "War            3.815812\n",
              "Drama          3.687379\n",
              "Documentary    3.672823\n",
              "Mystery        3.638132\n",
              "Crime          3.632278\n",
              "Romance        3.621705\n",
              "Western        3.613269\n",
              "Animation      3.576699\n",
              "Sci-Fi         3.560723\n",
              "Musical        3.521397\n",
              "Thriller       3.509007\n",
              "Adventure      3.503527\n",
              "Action         3.480245\n",
              "Comedy         3.394073\n",
              "Childrens      3.353244\n",
              "Horror         3.290389\n",
              "Fantasy        3.215237\n",
              "dtype: float64"
            ]
          },
          "execution_count": 29,
          "metadata": {},
          "output_type": "execute_result"
        }
      ],
      "source": [
        "# Calculating the mean of each column and sorting them in ascending order\n",
        "mean_rating.mean(axis=0).sort_values(ascending = False)"
      ]
    },
    {
      "cell_type": "code",
      "execution_count": 30,
      "metadata": {},
      "outputs": [
        {
          "data": {
            "image/png": "[encoded data removed]",
            "text/plain": [
              "<Figure size 1200x600 with 1 Axes>"
            ]
          },
          "metadata": {},
          "output_type": "display_data"
        }
      ],
      "source": [
        "ax = mean_rating.mean(axis=0).sort_values(ascending = False).plot(kind='bar', figsize=(12, 6), color='skyblue')\n",
        "plt.title('Average Ratings for Each Genre')\n",
        "plt.xlabel('Genre')\n",
        "plt.ylabel('Average Rating')    \n",
        "plt.grid(axis='y', linestyle='--', alpha=0.7)\n",
        "plt.xticks(rotation=45)\n",
        "# Add count labels on top of each bar\n",
        "for p in ax.patches:\n",
        "    ax.annotate(f\"{p.get_height():.2f}\", (p.get_x() + p.get_width() / 2, p.get_height()),\n",
        "                ha='center', va='bottom', fontsize=10, color='black')\n",
        "\n",
        "plt.show()"
      ]
    },
    {
      "cell_type": "markdown",
      "metadata": {
        "id": "JZteEeiDFx-c"
      },
      "source": [
        "**Findings**\n",
        "\n",
        "- *'Film-Noir' genre is having the highest average ratings with an average rating of 3.92 followed by 'War' genre with rating of 3.81*. So, the majority of the population tends to like the 'Film-Noir' and 'War' movies compared to any other movies genres."
      ]
    },
    {
      "cell_type": "markdown",
      "metadata": {
        "id": "RImiODmoh4IU"
      },
      "source": [
        "**Can we find out top 25 movies which received hightest ratings**"
      ]
    },
    {
      "cell_type": "markdown",
      "metadata": {
        "id": "-YuGtRh_R31w"
      },
      "source": [
        "We will utilize `df_merge` dataframe for this. "
      ]
    },
    {
      "cell_type": "code",
      "execution_count": 31,
      "metadata": {
        "colab": {
          "base_uri": "https://localhost:8080/",
          "height": 391
        },
        "id": "05s8DAHTiDT_",
        "outputId": "d7388878-cdbb-404d-8d16-8dfae60b7181"
      },
      "outputs": [
        {
          "data": {
            "text/html": [
              "<div>\n",
              "<style scoped>\n",
              "    .dataframe tbody tr th:only-of-type {\n",
              "        vertical-align: middle;\n",
              "    }\n",
              "\n",
              "    .dataframe tbody tr th {\n",
              "        vertical-align: top;\n",
              "    }\n",
              "\n",
              "    .dataframe thead th {\n",
              "        text-align: right;\n",
              "    }\n",
              "</style>\n",
              "<table border=\"1\" class=\"dataframe\">\n",
              "  <thead>\n",
              "    <tr style=\"text-align: right;\">\n",
              "      <th></th>\n",
              "      <th>movie id</th>\n",
              "      <th>movie title</th>\n",
              "      <th>Action</th>\n",
              "      <th>Adventure</th>\n",
              "      <th>Animation</th>\n",
              "      <th>Childrens</th>\n",
              "      <th>Comedy</th>\n",
              "      <th>Crime</th>\n",
              "      <th>Documentary</th>\n",
              "      <th>Drama</th>\n",
              "      <th>...</th>\n",
              "      <th>Sci-Fi</th>\n",
              "      <th>Thriller</th>\n",
              "      <th>War</th>\n",
              "      <th>Western</th>\n",
              "      <th>release_date</th>\n",
              "      <th>Year</th>\n",
              "      <th>Number of Genres</th>\n",
              "      <th>user id</th>\n",
              "      <th>rating</th>\n",
              "      <th>timestamp</th>\n",
              "    </tr>\n",
              "  </thead>\n",
              "  <tbody>\n",
              "    <tr>\n",
              "      <th>0</th>\n",
              "      <td>1</td>\n",
              "      <td>Toy Story</td>\n",
              "      <td>0</td>\n",
              "      <td>0</td>\n",
              "      <td>1</td>\n",
              "      <td>1</td>\n",
              "      <td>1</td>\n",
              "      <td>0</td>\n",
              "      <td>0</td>\n",
              "      <td>0</td>\n",
              "      <td>...</td>\n",
              "      <td>0</td>\n",
              "      <td>0</td>\n",
              "      <td>0</td>\n",
              "      <td>0</td>\n",
              "      <td>1995-01-01</td>\n",
              "      <td>1995</td>\n",
              "      <td>3</td>\n",
              "      <td>308</td>\n",
              "      <td>4</td>\n",
              "      <td>887736532</td>\n",
              "    </tr>\n",
              "    <tr>\n",
              "      <th>1</th>\n",
              "      <td>1</td>\n",
              "      <td>Toy Story</td>\n",
              "      <td>0</td>\n",
              "      <td>0</td>\n",
              "      <td>1</td>\n",
              "      <td>1</td>\n",
              "      <td>1</td>\n",
              "      <td>0</td>\n",
              "      <td>0</td>\n",
              "      <td>0</td>\n",
              "      <td>...</td>\n",
              "      <td>0</td>\n",
              "      <td>0</td>\n",
              "      <td>0</td>\n",
              "      <td>0</td>\n",
              "      <td>1995-01-01</td>\n",
              "      <td>1995</td>\n",
              "      <td>3</td>\n",
              "      <td>287</td>\n",
              "      <td>5</td>\n",
              "      <td>875334088</td>\n",
              "    </tr>\n",
              "    <tr>\n",
              "      <th>2</th>\n",
              "      <td>1</td>\n",
              "      <td>Toy Story</td>\n",
              "      <td>0</td>\n",
              "      <td>0</td>\n",
              "      <td>1</td>\n",
              "      <td>1</td>\n",
              "      <td>1</td>\n",
              "      <td>0</td>\n",
              "      <td>0</td>\n",
              "      <td>0</td>\n",
              "      <td>...</td>\n",
              "      <td>0</td>\n",
              "      <td>0</td>\n",
              "      <td>0</td>\n",
              "      <td>0</td>\n",
              "      <td>1995-01-01</td>\n",
              "      <td>1995</td>\n",
              "      <td>3</td>\n",
              "      <td>148</td>\n",
              "      <td>4</td>\n",
              "      <td>877019411</td>\n",
              "    </tr>\n",
              "    <tr>\n",
              "      <th>3</th>\n",
              "      <td>1</td>\n",
              "      <td>Toy Story</td>\n",
              "      <td>0</td>\n",
              "      <td>0</td>\n",
              "      <td>1</td>\n",
              "      <td>1</td>\n",
              "      <td>1</td>\n",
              "      <td>0</td>\n",
              "      <td>0</td>\n",
              "      <td>0</td>\n",
              "      <td>...</td>\n",
              "      <td>0</td>\n",
              "      <td>0</td>\n",
              "      <td>0</td>\n",
              "      <td>0</td>\n",
              "      <td>1995-01-01</td>\n",
              "      <td>1995</td>\n",
              "      <td>3</td>\n",
              "      <td>280</td>\n",
              "      <td>4</td>\n",
              "      <td>891700426</td>\n",
              "    </tr>\n",
              "    <tr>\n",
              "      <th>4</th>\n",
              "      <td>1</td>\n",
              "      <td>Toy Story</td>\n",
              "      <td>0</td>\n",
              "      <td>0</td>\n",
              "      <td>1</td>\n",
              "      <td>1</td>\n",
              "      <td>1</td>\n",
              "      <td>0</td>\n",
              "      <td>0</td>\n",
              "      <td>0</td>\n",
              "      <td>...</td>\n",
              "      <td>0</td>\n",
              "      <td>0</td>\n",
              "      <td>0</td>\n",
              "      <td>0</td>\n",
              "      <td>1995-01-01</td>\n",
              "      <td>1995</td>\n",
              "      <td>3</td>\n",
              "      <td>66</td>\n",
              "      <td>3</td>\n",
              "      <td>883601324</td>\n",
              "    </tr>\n",
              "  </tbody>\n",
              "</table>\n",
              "<p>5 rows × 26 columns</p>\n",
              "</div>"
            ],
            "text/plain": [
              "   movie id movie title  Action  Adventure  Animation  Childrens  Comedy  \\\n",
              "0         1  Toy Story        0          0          1          1       1   \n",
              "1         1  Toy Story        0          0          1          1       1   \n",
              "2         1  Toy Story        0          0          1          1       1   \n",
              "3         1  Toy Story        0          0          1          1       1   \n",
              "4         1  Toy Story        0          0          1          1       1   \n",
              "\n",
              "   Crime  Documentary  Drama  ...  Sci-Fi  Thriller  War  Western  \\\n",
              "0      0            0      0  ...       0         0    0        0   \n",
              "1      0            0      0  ...       0         0    0        0   \n",
              "2      0            0      0  ...       0         0    0        0   \n",
              "3      0            0      0  ...       0         0    0        0   \n",
              "4      0            0      0  ...       0         0    0        0   \n",
              "\n",
              "   release_date  Year  Number of Genres  user id  rating  timestamp  \n",
              "0    1995-01-01  1995                 3      308       4  887736532  \n",
              "1    1995-01-01  1995                 3      287       5  875334088  \n",
              "2    1995-01-01  1995                 3      148       4  877019411  \n",
              "3    1995-01-01  1995                 3      280       4  891700426  \n",
              "4    1995-01-01  1995                 3       66       3  883601324  \n",
              "\n",
              "[5 rows x 26 columns]"
            ]
          },
          "execution_count": 31,
          "metadata": {},
          "output_type": "execute_result"
        }
      ],
      "source": [
        "df_merge.head()"
      ]
    },
    {
      "cell_type": "markdown",
      "metadata": {
        "id": "bTwGARG5iPfU"
      },
      "source": [
        "As multiple rating has been given to a single movie from different users, to find out movies preferred by users, lets get the average rating of each movie"
      ]
    },
    {
      "cell_type": "code",
      "execution_count": 32,
      "metadata": {},
      "outputs": [
        {
          "data": {
            "text/html": [
              "<div>\n",
              "<style scoped>\n",
              "    .dataframe tbody tr th:only-of-type {\n",
              "        vertical-align: middle;\n",
              "    }\n",
              "\n",
              "    .dataframe tbody tr th {\n",
              "        vertical-align: top;\n",
              "    }\n",
              "\n",
              "    .dataframe thead th {\n",
              "        text-align: right;\n",
              "    }\n",
              "</style>\n",
              "<table border=\"1\" class=\"dataframe\">\n",
              "  <thead>\n",
              "    <tr style=\"text-align: right;\">\n",
              "      <th></th>\n",
              "      <th>movie title</th>\n",
              "      <th>Avg_rating</th>\n",
              "    </tr>\n",
              "  </thead>\n",
              "  <tbody>\n",
              "    <tr>\n",
              "      <th>631</th>\n",
              "      <td>Great Day in Harlem, A</td>\n",
              "      <td>5.000000</td>\n",
              "    </tr>\n",
              "    <tr>\n",
              "      <th>1170</th>\n",
              "      <td>Prefontaine</td>\n",
              "      <td>5.000000</td>\n",
              "    </tr>\n",
              "    <tr>\n",
              "      <th>1354</th>\n",
              "      <td>Someone Else's America</td>\n",
              "      <td>5.000000</td>\n",
              "    </tr>\n",
              "    <tr>\n",
              "      <th>461</th>\n",
              "      <td>Entertaining Angels: The Dorothy Day Story</td>\n",
              "      <td>5.000000</td>\n",
              "    </tr>\n",
              "    <tr>\n",
              "      <th>942</th>\n",
              "      <td>Marlene Dietrich: Shadow and Light (</td>\n",
              "      <td>5.000000</td>\n",
              "    </tr>\n",
              "    <tr>\n",
              "      <th>1382</th>\n",
              "      <td>Star Kid</td>\n",
              "      <td>5.000000</td>\n",
              "    </tr>\n",
              "    <tr>\n",
              "      <th>1466</th>\n",
              "      <td>They Made Me a Criminal</td>\n",
              "      <td>5.000000</td>\n",
              "    </tr>\n",
              "    <tr>\n",
              "      <th>30</th>\n",
              "      <td>Aiqing wansui</td>\n",
              "      <td>5.000000</td>\n",
              "    </tr>\n",
              "    <tr>\n",
              "      <th>1270</th>\n",
              "      <td>Saint of Fort Washington, The</td>\n",
              "      <td>5.000000</td>\n",
              "    </tr>\n",
              "    <tr>\n",
              "      <th>1274</th>\n",
              "      <td>Santa with Muscles</td>\n",
              "      <td>5.000000</td>\n",
              "    </tr>\n",
              "    <tr>\n",
              "      <th>1128</th>\n",
              "      <td>Pather Panchali</td>\n",
              "      <td>4.625000</td>\n",
              "    </tr>\n",
              "    <tr>\n",
              "      <th>1352</th>\n",
              "      <td>Some Mother's Son</td>\n",
              "      <td>4.500000</td>\n",
              "    </tr>\n",
              "    <tr>\n",
              "      <th>79</th>\n",
              "      <td>Anna</td>\n",
              "      <td>4.500000</td>\n",
              "    </tr>\n",
              "    <tr>\n",
              "      <th>954</th>\n",
              "      <td>Maya Lin: A Strong Clear Vision</td>\n",
              "      <td>4.500000</td>\n",
              "    </tr>\n",
              "    <tr>\n",
              "      <th>471</th>\n",
              "      <td>Everest</td>\n",
              "      <td>4.500000</td>\n",
              "    </tr>\n",
              "    <tr>\n",
              "      <th>317</th>\n",
              "      <td>Close Shave, A</td>\n",
              "      <td>4.491071</td>\n",
              "    </tr>\n",
              "    <tr>\n",
              "      <th>1277</th>\n",
              "      <td>Schindler's List</td>\n",
              "      <td>4.466443</td>\n",
              "    </tr>\n",
              "    <tr>\n",
              "      <th>1646</th>\n",
              "      <td>Wrong Trousers, The</td>\n",
              "      <td>4.466102</td>\n",
              "    </tr>\n",
              "    <tr>\n",
              "      <th>272</th>\n",
              "      <td>Casablanca</td>\n",
              "      <td>4.456790</td>\n",
              "    </tr>\n",
              "    <tr>\n",
              "      <th>1591</th>\n",
              "      <td>Wallace &amp; Gromit: The Best of Aardman Animation</td>\n",
              "      <td>4.447761</td>\n",
              "    </tr>\n",
              "    <tr>\n",
              "      <th>1312</th>\n",
              "      <td>Shawshank Redemption, The</td>\n",
              "      <td>4.445230</td>\n",
              "    </tr>\n",
              "    <tr>\n",
              "      <th>1213</th>\n",
              "      <td>Rear Window</td>\n",
              "      <td>4.387560</td>\n",
              "    </tr>\n",
              "    <tr>\n",
              "      <th>1566</th>\n",
              "      <td>Usual Suspects, The</td>\n",
              "      <td>4.385768</td>\n",
              "    </tr>\n",
              "    <tr>\n",
              "      <th>1393</th>\n",
              "      <td>Star Wars</td>\n",
              "      <td>4.358491</td>\n",
              "    </tr>\n",
              "    <tr>\n",
              "      <th>3</th>\n",
              "      <td>12 Angry Men</td>\n",
              "      <td>4.344000</td>\n",
              "    </tr>\n",
              "  </tbody>\n",
              "</table>\n",
              "</div>"
            ],
            "text/plain": [
              "                                           movie title  Avg_rating\n",
              "631                            Great Day in Harlem, A     5.000000\n",
              "1170                                      Prefontaine     5.000000\n",
              "1354                           Someone Else's America     5.000000\n",
              "461        Entertaining Angels: The Dorothy Day Story     5.000000\n",
              "942               Marlene Dietrich: Shadow and Light (    5.000000\n",
              "1382                                         Star Kid     5.000000\n",
              "1466                          They Made Me a Criminal     5.000000\n",
              "30                                      Aiqing wansui     5.000000\n",
              "1270                    Saint of Fort Washington, The     5.000000\n",
              "1274                               Santa with Muscles     5.000000\n",
              "1128                                  Pather Panchali     4.625000\n",
              "1352                                Some Mother's Son     4.500000\n",
              "79                                               Anna     4.500000\n",
              "954                   Maya Lin: A Strong Clear Vision     4.500000\n",
              "471                                           Everest     4.500000\n",
              "317                                    Close Shave, A     4.491071\n",
              "1277                                 Schindler's List     4.466443\n",
              "1646                              Wrong Trousers, The     4.466102\n",
              "272                                        Casablanca     4.456790\n",
              "1591  Wallace & Gromit: The Best of Aardman Animation     4.447761\n",
              "1312                        Shawshank Redemption, The     4.445230\n",
              "1213                                      Rear Window     4.387560\n",
              "1566                              Usual Suspects, The     4.385768\n",
              "1393                                        Star Wars     4.358491\n",
              "3                                        12 Angry Men     4.344000"
            ]
          },
          "execution_count": 32,
          "metadata": {},
          "output_type": "execute_result"
        }
      ],
      "source": [
        "avg_rating = df_merge.groupby('movie title')['rating'].mean().reset_index().sort_values(by='rating', ascending=False)\n",
        "avg_rating.rename(columns={'rating':'Avg_rating'},inplace=True)\n",
        "avg_rating.head(25) # Top 25 movies with highest average rating"
      ]
    },
    {
      "cell_type": "markdown",
      "metadata": {
        "id": "8JYcvvcLYTV1"
      },
      "source": [
        "**Can we find out top 25 movies which received most number of ratings**"
      ]
    },
    {
      "cell_type": "code",
      "execution_count": 33,
      "metadata": {
        "colab": {
          "base_uri": "https://localhost:8080/",
          "height": 423
        },
        "id": "i19_lkVWikz_",
        "outputId": "8205af1a-ac3d-4d25-d056-f9219dec3c5a"
      },
      "outputs": [
        {
          "data": {
            "text/html": [
              "<div>\n",
              "<style scoped>\n",
              "    .dataframe tbody tr th:only-of-type {\n",
              "        vertical-align: middle;\n",
              "    }\n",
              "\n",
              "    .dataframe tbody tr th {\n",
              "        vertical-align: top;\n",
              "    }\n",
              "\n",
              "    .dataframe thead th {\n",
              "        text-align: right;\n",
              "    }\n",
              "</style>\n",
              "<table border=\"1\" class=\"dataframe\">\n",
              "  <thead>\n",
              "    <tr style=\"text-align: right;\">\n",
              "      <th></th>\n",
              "      <th>movie title</th>\n",
              "      <th>Avg_rating</th>\n",
              "    </tr>\n",
              "  </thead>\n",
              "  <tbody>\n",
              "    <tr>\n",
              "      <th>1393</th>\n",
              "      <td>Star Wars</td>\n",
              "      <td>583</td>\n",
              "    </tr>\n",
              "    <tr>\n",
              "      <th>332</th>\n",
              "      <td>Contact</td>\n",
              "      <td>509</td>\n",
              "    </tr>\n",
              "    <tr>\n",
              "      <th>497</th>\n",
              "      <td>Fargo</td>\n",
              "      <td>508</td>\n",
              "    </tr>\n",
              "    <tr>\n",
              "      <th>1232</th>\n",
              "      <td>Return of the Jedi</td>\n",
              "      <td>507</td>\n",
              "    </tr>\n",
              "    <tr>\n",
              "      <th>858</th>\n",
              "      <td>Liar Liar</td>\n",
              "      <td>485</td>\n",
              "    </tr>\n",
              "    <tr>\n",
              "      <th>459</th>\n",
              "      <td>English Patient, The</td>\n",
              "      <td>481</td>\n",
              "    </tr>\n",
              "    <tr>\n",
              "      <th>1280</th>\n",
              "      <td>Scream</td>\n",
              "      <td>478</td>\n",
              "    </tr>\n",
              "    <tr>\n",
              "      <th>1517</th>\n",
              "      <td>Toy Story</td>\n",
              "      <td>452</td>\n",
              "    </tr>\n",
              "    <tr>\n",
              "      <th>32</th>\n",
              "      <td>Air Force One</td>\n",
              "      <td>431</td>\n",
              "    </tr>\n",
              "    <tr>\n",
              "      <th>742</th>\n",
              "      <td>Independence Day (ID4)</td>\n",
              "      <td>429</td>\n",
              "    </tr>\n",
              "    <tr>\n",
              "      <th>1203</th>\n",
              "      <td>Raiders of the Lost Ark</td>\n",
              "      <td>420</td>\n",
              "    </tr>\n",
              "    <tr>\n",
              "      <th>611</th>\n",
              "      <td>Godfather, The</td>\n",
              "      <td>413</td>\n",
              "    </tr>\n",
              "    <tr>\n",
              "      <th>1188</th>\n",
              "      <td>Pulp Fiction</td>\n",
              "      <td>394</td>\n",
              "    </tr>\n",
              "    <tr>\n",
              "      <th>1537</th>\n",
              "      <td>Twelve Monkeys</td>\n",
              "      <td>392</td>\n",
              "    </tr>\n",
              "    <tr>\n",
              "      <th>1324</th>\n",
              "      <td>Silence of the Lambs, The</td>\n",
              "      <td>390</td>\n",
              "    </tr>\n",
              "    <tr>\n",
              "      <th>778</th>\n",
              "      <td>Jerry Maguire</td>\n",
              "      <td>384</td>\n",
              "    </tr>\n",
              "    <tr>\n",
              "      <th>292</th>\n",
              "      <td>Chasing Amy</td>\n",
              "      <td>379</td>\n",
              "    </tr>\n",
              "    <tr>\n",
              "      <th>1249</th>\n",
              "      <td>Rock, The</td>\n",
              "      <td>378</td>\n",
              "    </tr>\n",
              "    <tr>\n",
              "      <th>455</th>\n",
              "      <td>Empire Strikes Back, The</td>\n",
              "      <td>367</td>\n",
              "    </tr>\n",
              "    <tr>\n",
              "      <th>1389</th>\n",
              "      <td>Star Trek: First Contact</td>\n",
              "      <td>365</td>\n",
              "    </tr>\n",
              "    <tr>\n",
              "      <th>113</th>\n",
              "      <td>Back to the Future</td>\n",
              "      <td>350</td>\n",
              "    </tr>\n",
              "    <tr>\n",
              "      <th>1494</th>\n",
              "      <td>Titanic</td>\n",
              "      <td>350</td>\n",
              "    </tr>\n",
              "    <tr>\n",
              "      <th>985</th>\n",
              "      <td>Mission: Impossible</td>\n",
              "      <td>344</td>\n",
              "    </tr>\n",
              "    <tr>\n",
              "      <th>569</th>\n",
              "      <td>Fugitive, The</td>\n",
              "      <td>336</td>\n",
              "    </tr>\n",
              "    <tr>\n",
              "      <th>745</th>\n",
              "      <td>Indiana Jones and the Last Crusade</td>\n",
              "      <td>331</td>\n",
              "    </tr>\n",
              "  </tbody>\n",
              "</table>\n",
              "</div>"
            ],
            "text/plain": [
              "                              movie title  Avg_rating\n",
              "1393                           Star Wars          583\n",
              "332                              Contact          509\n",
              "497                                Fargo          508\n",
              "1232                  Return of the Jedi          507\n",
              "858                            Liar Liar          485\n",
              "459                 English Patient, The          481\n",
              "1280                              Scream          478\n",
              "1517                           Toy Story          452\n",
              "32                         Air Force One          431\n",
              "742               Independence Day (ID4)          429\n",
              "1203             Raiders of the Lost Ark          420\n",
              "611                       Godfather, The          413\n",
              "1188                        Pulp Fiction          394\n",
              "1537                      Twelve Monkeys          392\n",
              "1324           Silence of the Lambs, The          390\n",
              "778                        Jerry Maguire          384\n",
              "292                          Chasing Amy          379\n",
              "1249                           Rock, The          378\n",
              "455             Empire Strikes Back, The          367\n",
              "1389            Star Trek: First Contact          365\n",
              "113                   Back to the Future          350\n",
              "1494                             Titanic          350\n",
              "985                  Mission: Impossible          344\n",
              "569                        Fugitive, The          336\n",
              "745   Indiana Jones and the Last Crusade          331"
            ]
          },
          "execution_count": 33,
          "metadata": {},
          "output_type": "execute_result"
        }
      ],
      "source": [
        "movie_count = df_merge.groupby('movie title')['rating'].count().reset_index().sort_values(by='rating', ascending=False)\n",
        "movie_count.rename(columns={'rating':'Avg_rating'},inplace=True)\n",
        "movie_count.head(25) # Top 25 movies with highest average rating"
      ]
    },
    {
      "cell_type": "markdown",
      "metadata": {
        "id": "XAaL4nyKi3M_"
      },
      "source": [
        "**Lets Merge User data and see what analysis we can do**"
      ]
    },
    {
      "cell_type": "code",
      "execution_count": 34,
      "metadata": {
        "id": "yQ_wpyXSi92P"
      },
      "outputs": [],
      "source": [
        "# Merging user dataset with movie and ratings(already merged : df_merge) dataset\n",
        "df_merge_all = df_merge.merge(user, on = 'user id', how = 'inner')"
      ]
    },
    {
      "cell_type": "code",
      "execution_count": 35,
      "metadata": {
        "colab": {
          "base_uri": "https://localhost:8080/",
          "height": 357
        },
        "id": "R69H89yDi_E_",
        "outputId": "fdefd7dc-eb91-4c76-9571-85151a50b3f3"
      },
      "outputs": [
        {
          "data": {
            "text/html": [
              "<div>\n",
              "<style scoped>\n",
              "    .dataframe tbody tr th:only-of-type {\n",
              "        vertical-align: middle;\n",
              "    }\n",
              "\n",
              "    .dataframe tbody tr th {\n",
              "        vertical-align: top;\n",
              "    }\n",
              "\n",
              "    .dataframe thead th {\n",
              "        text-align: right;\n",
              "    }\n",
              "</style>\n",
              "<table border=\"1\" class=\"dataframe\">\n",
              "  <thead>\n",
              "    <tr style=\"text-align: right;\">\n",
              "      <th></th>\n",
              "      <th>movie id</th>\n",
              "      <th>movie title</th>\n",
              "      <th>Action</th>\n",
              "      <th>Adventure</th>\n",
              "      <th>Animation</th>\n",
              "      <th>Childrens</th>\n",
              "      <th>Comedy</th>\n",
              "      <th>Crime</th>\n",
              "      <th>Documentary</th>\n",
              "      <th>Drama</th>\n",
              "      <th>...</th>\n",
              "      <th>release_date</th>\n",
              "      <th>Year</th>\n",
              "      <th>Number of Genres</th>\n",
              "      <th>user id</th>\n",
              "      <th>rating</th>\n",
              "      <th>timestamp</th>\n",
              "      <th>age</th>\n",
              "      <th>gender</th>\n",
              "      <th>occupation</th>\n",
              "      <th>zip code</th>\n",
              "    </tr>\n",
              "  </thead>\n",
              "  <tbody>\n",
              "    <tr>\n",
              "      <th>0</th>\n",
              "      <td>1</td>\n",
              "      <td>Toy Story</td>\n",
              "      <td>0</td>\n",
              "      <td>0</td>\n",
              "      <td>1</td>\n",
              "      <td>1</td>\n",
              "      <td>1</td>\n",
              "      <td>0</td>\n",
              "      <td>0</td>\n",
              "      <td>0</td>\n",
              "      <td>...</td>\n",
              "      <td>1995-01-01</td>\n",
              "      <td>1995</td>\n",
              "      <td>3</td>\n",
              "      <td>308</td>\n",
              "      <td>4</td>\n",
              "      <td>887736532</td>\n",
              "      <td>60</td>\n",
              "      <td>M</td>\n",
              "      <td>retired</td>\n",
              "      <td>95076</td>\n",
              "    </tr>\n",
              "    <tr>\n",
              "      <th>1</th>\n",
              "      <td>4</td>\n",
              "      <td>Get Shorty</td>\n",
              "      <td>1</td>\n",
              "      <td>0</td>\n",
              "      <td>0</td>\n",
              "      <td>0</td>\n",
              "      <td>1</td>\n",
              "      <td>0</td>\n",
              "      <td>0</td>\n",
              "      <td>1</td>\n",
              "      <td>...</td>\n",
              "      <td>1995-01-01</td>\n",
              "      <td>1995</td>\n",
              "      <td>3</td>\n",
              "      <td>308</td>\n",
              "      <td>5</td>\n",
              "      <td>887737890</td>\n",
              "      <td>60</td>\n",
              "      <td>M</td>\n",
              "      <td>retired</td>\n",
              "      <td>95076</td>\n",
              "    </tr>\n",
              "    <tr>\n",
              "      <th>2</th>\n",
              "      <td>5</td>\n",
              "      <td>Copycat</td>\n",
              "      <td>0</td>\n",
              "      <td>0</td>\n",
              "      <td>0</td>\n",
              "      <td>0</td>\n",
              "      <td>0</td>\n",
              "      <td>1</td>\n",
              "      <td>0</td>\n",
              "      <td>1</td>\n",
              "      <td>...</td>\n",
              "      <td>1995-01-01</td>\n",
              "      <td>1995</td>\n",
              "      <td>3</td>\n",
              "      <td>308</td>\n",
              "      <td>4</td>\n",
              "      <td>887739608</td>\n",
              "      <td>60</td>\n",
              "      <td>M</td>\n",
              "      <td>retired</td>\n",
              "      <td>95076</td>\n",
              "    </tr>\n",
              "    <tr>\n",
              "      <th>3</th>\n",
              "      <td>7</td>\n",
              "      <td>Twelve Monkeys</td>\n",
              "      <td>0</td>\n",
              "      <td>0</td>\n",
              "      <td>0</td>\n",
              "      <td>0</td>\n",
              "      <td>0</td>\n",
              "      <td>0</td>\n",
              "      <td>0</td>\n",
              "      <td>1</td>\n",
              "      <td>...</td>\n",
              "      <td>1995-01-01</td>\n",
              "      <td>1995</td>\n",
              "      <td>2</td>\n",
              "      <td>308</td>\n",
              "      <td>4</td>\n",
              "      <td>887738847</td>\n",
              "      <td>60</td>\n",
              "      <td>M</td>\n",
              "      <td>retired</td>\n",
              "      <td>95076</td>\n",
              "    </tr>\n",
              "    <tr>\n",
              "      <th>4</th>\n",
              "      <td>8</td>\n",
              "      <td>Babe</td>\n",
              "      <td>0</td>\n",
              "      <td>0</td>\n",
              "      <td>0</td>\n",
              "      <td>1</td>\n",
              "      <td>1</td>\n",
              "      <td>0</td>\n",
              "      <td>0</td>\n",
              "      <td>1</td>\n",
              "      <td>...</td>\n",
              "      <td>1995-01-01</td>\n",
              "      <td>1995</td>\n",
              "      <td>3</td>\n",
              "      <td>308</td>\n",
              "      <td>5</td>\n",
              "      <td>887736696</td>\n",
              "      <td>60</td>\n",
              "      <td>M</td>\n",
              "      <td>retired</td>\n",
              "      <td>95076</td>\n",
              "    </tr>\n",
              "  </tbody>\n",
              "</table>\n",
              "<p>5 rows × 30 columns</p>\n",
              "</div>"
            ],
            "text/plain": [
              "   movie id      movie title  Action  Adventure  Animation  Childrens  Comedy  \\\n",
              "0         1       Toy Story        0          0          1          1       1   \n",
              "1         4      Get Shorty        1          0          0          0       1   \n",
              "2         5         Copycat        0          0          0          0       0   \n",
              "3         7  Twelve Monkeys        0          0          0          0       0   \n",
              "4         8            Babe        0          0          0          1       1   \n",
              "\n",
              "   Crime  Documentary  Drama  ...  release_date  Year  Number of Genres  \\\n",
              "0      0            0      0  ...    1995-01-01  1995                 3   \n",
              "1      0            0      1  ...    1995-01-01  1995                 3   \n",
              "2      1            0      1  ...    1995-01-01  1995                 3   \n",
              "3      0            0      1  ...    1995-01-01  1995                 2   \n",
              "4      0            0      1  ...    1995-01-01  1995                 3   \n",
              "\n",
              "   user id  rating  timestamp  age  gender  occupation  zip code  \n",
              "0      308       4  887736532   60       M     retired     95076  \n",
              "1      308       5  887737890   60       M     retired     95076  \n",
              "2      308       4  887739608   60       M     retired     95076  \n",
              "3      308       4  887738847   60       M     retired     95076  \n",
              "4      308       5  887736696   60       M     retired     95076  \n",
              "\n",
              "[5 rows x 30 columns]"
            ]
          },
          "execution_count": 35,
          "metadata": {},
          "output_type": "execute_result"
        }
      ],
      "source": [
        "df_merge_all.head()"
      ]
    },
    {
      "cell_type": "code",
      "execution_count": 36,
      "metadata": {
        "colab": {
          "base_uri": "https://localhost:8080/"
        },
        "id": "DBA480h9jDSo",
        "outputId": "1f96808e-585d-49a8-a89b-e1eac81c5267"
      },
      "outputs": [
        {
          "data": {
            "text/plain": [
              "gender\n",
              "F    3.531510\n",
              "M    3.529333\n",
              "Name: rating, dtype: float64"
            ]
          },
          "execution_count": 36,
          "metadata": {},
          "output_type": "execute_result"
        }
      ],
      "source": [
        "df_merge_all.groupby('gender').rating.mean() #grouping the dataset on 'gender' column and taking the average of ratings"
      ]
    },
    {
      "cell_type": "code",
      "execution_count": 37,
      "metadata": {
        "colab": {
          "base_uri": "https://localhost:8080/"
        },
        "id": "wjkX1hd0jEcH",
        "outputId": "144efdf9-26fa-4cd0-b416-5884a059dd12"
      },
      "outputs": [
        {
          "data": {
            "text/plain": [
              "occupation\n",
              "none             3.777778\n",
              "lawyer           3.735316\n",
              "doctor           3.688889\n",
              "educator         3.670692\n",
              "artist           3.653380\n",
              "administrator    3.635646\n",
              "scientist        3.611273\n",
              "salesman         3.582944\n",
              "programmer       3.568205\n",
              "librarian        3.560781\n",
              "other            3.552335\n",
              "engineer         3.541473\n",
              "technician       3.532097\n",
              "student          3.515167\n",
              "marketing        3.485641\n",
              "retired          3.466750\n",
              "entertainment    3.440783\n",
              "writer           3.376152\n",
              "executive        3.349794\n",
              "homemaker        3.301003\n",
              "healthcare       2.896220\n",
              "Name: rating, dtype: float64"
            ]
          },
          "execution_count": 37,
          "metadata": {},
          "output_type": "execute_result"
        }
      ],
      "source": [
        "df_merge_all.groupby('occupation').rating.mean().sort_values(ascending= False) #grouping the dataset on 'occupation' column and taking the average of ratings."
      ]
    },
    {
      "cell_type": "markdown",
      "metadata": {
        "id": "7ajb8u7daB_G"
      },
      "source": [
        "- *Users who are not working have given highest ratings as compared to users who are working professionals* \n",
        "- *Healthcare workers have given lowest ratings on an average* "
      ]
    },
    {
      "cell_type": "markdown",
      "metadata": {},
      "source": [
        "**Thank You**"
      ]
    },
    {
      "cell_type": "markdown",
      "metadata": {},
      "source": []
    }
  ],
  "metadata": {
    "colab": {
      "collapsed_sections": [],
      "name": "Week_1_MovieLens_Case_Study.ipynb",
      "provenance": []
    },
    "kernelspec": {
      "display_name": "base",
      "language": "python",
      "name": "python3"
    },
    "language_info": {
      "codemirror_mode": {
        "name": "ipython",
        "version": 3
      },
      "file_extension": ".py",
      "mimetype": "text/x-python",
      "name": "python",
      "nbconvert_exporter": "python",
      "pygments_lexer": "ipython3",
      "version": "3.11.5"
    }
  },
  "nbformat": 4,
  "nbformat_minor": 0
}
