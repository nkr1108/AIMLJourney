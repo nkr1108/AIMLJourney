{
 "cells": [
  {
   "cell_type": "markdown",
   "metadata": {},
   "source": [
    "### Regular Expressions\n",
    "\n",
    "Regular expressions is a concept used to search for patterns in string text."
   ]
  },
  {
   "cell_type": "markdown",
   "metadata": {},
   "source": [
    "<pre>\n",
    ".       - Any Character Except New Line\n",
    "\\d      - Digit (0-9)\n",
    "\\D      - Not a Digit (0-9)\n",
    "\\w      - Word Character (a-z, A-Z, 0-9, _)\n",
    "\\W      - Not a Word Character\n",
    "\\s      - Whitespace (space, tab, newline)\n",
    "\\S      - Not Whitespace (space, tab, newline)\n",
    "\n",
    "\\b      - Word Boundary\n",
    "\\B      - Not a Word Boundary\n",
    "^       - Beginning of a String\n",
    "$       - End of a String\n",
    "\n",
    "[]      - Matches Characters in brackets\n",
    "[^ ]    - Matches Characters NOT in brackets\n",
    "|       - Either Or\n",
    "( )     - Group\n",
    "\n",
    "Quantifiers:\n",
    "*       - 0 or More\n",
    "+       - 1 or More\n",
    "?       - 0 or One\n",
    "{3}     - Exact Number\n",
    "{3,4}   - Range of Numbers (Minimum, Maximum)\n",
    "</pre>"
   ]
  },
  {
   "cell_type": "code",
   "execution_count": 1,
   "metadata": {},
   "outputs": [],
   "source": [
    "import re # import regular expressions module\n",
    "\n",
    "document = '''\n",
    "abcdefghijklmnopqurtuvwxyz\n",
    "ABCDEFGHIJKLMNOPQRSTUVWXYZ\n",
    "1234567890\n",
    "123abc\n",
    "\n",
    "Hello HelloHello Hola\n",
    "\n",
    "MetaCharacters (Need to be escaped):\n",
    ". ^ $ * + ? { } [ ] \\ | ( )\n",
    "\n",
    "utexas.edu\n",
    "2a 2b 3_ _\n",
    "321-555-4321\n",
    "123.555.1234\n",
    "4a 4b 4c\n",
    "lisa@myorg.edu\n",
    "a4 b5 c6\n",
    "Mr. Johnson\n",
    "Mr Smith\n",
    "Ms Davis\n",
    "Mrs. Robinson\n",
    "Mr. Lewis\n",
    "Mr T\n",
    "'''"
   ]
  },
  {
   "cell_type": "markdown",
   "metadata": {},
   "source": [
    "### Searching literals"
   ]
  },
  {
   "cell_type": "code",
   "execution_count": 2,
   "metadata": {},
   "outputs": [
    {
     "name": "stdout",
     "output_type": "stream",
     "text": [
      "<class 'callable_iterator'>\n",
      "\n",
      "Matches found:\n",
      "<re.Match object; span=(1, 4), match='abc'>\n",
      "<re.Match object; span=(69, 72), match='abc'>\n",
      "\n",
      "here is the document:\n",
      "location 1 to 4: abc\n",
      "location 69 to 72: abc\n"
     ]
    }
   ],
   "source": [
    "# Regular expression to find the pattern 'abc'\n",
    "\n",
    "pattern = re.compile(r'abc') # r - raw string to avoid escaping backslashes\n",
    "\n",
    "matches = pattern.finditer(document) # finditer returns an iterator yielding match objects\n",
    "print(type(matches))\n",
    "\n",
    "# Iterate through the matches and print them\n",
    "print(\"\\nMatches found:\")\n",
    "for mat in matches:\n",
    "    print(mat)\n",
    "\n",
    "# Demonstrating string slicing\n",
    "print(\"\\nhere is the document:\")\n",
    "print(\"location 1 to 4:\",document[1:4])  # This will print the substring 'abc' from the document\n",
    "print(\"location 69 to 72:\",document[69:72])  # This will print the substring 'abc' from the document"
   ]
  },
  {
   "cell_type": "code",
   "execution_count": 3,
   "metadata": {},
   "outputs": [
    {
     "name": "stdout",
     "output_type": "stream",
     "text": [
      "No matches found for pattern 'cba'.\n"
     ]
    }
   ],
   "source": [
    "# finding a different pattern 'cba'\n",
    "\n",
    "pattern = re.compile(r'cba')\n",
    "matches = list(pattern.finditer(document))\n",
    "if matches:\n",
    "    for mat in matches:\n",
    "        print(mat)\n",
    "else:\n",
    "    print(\"No matches found for pattern 'cba'.\")"
   ]
  },
  {
   "cell_type": "markdown",
   "metadata": {},
   "source": [
    "### Searching special characters"
   ]
  },
  {
   "cell_type": "code",
   "execution_count": 4,
   "metadata": {},
   "outputs": [
    {
     "name": "stdout",
     "output_type": "stream",
     "text": [
      "<re.Match object; span=(134, 135), match='.'>\n",
      "<re.Match object; span=(169, 170), match='.'>\n",
      "<re.Match object; span=(201, 202), match='.'>\n",
      "<re.Match object; span=(205, 206), match='.'>\n",
      "<re.Match object; span=(230, 231), match='.'>\n",
      "<re.Match object; span=(246, 247), match='.'>\n",
      "<re.Match object; span=(277, 278), match='.'>\n",
      "<re.Match object; span=(290, 291), match='.'>\n"
     ]
    }
   ],
   "source": [
    "# finding a different pattern '.' use escape character to match any character\n",
    "pattern = re.compile(r'\\.')\n",
    "matches = list(pattern.finditer(document))\n",
    "if matches:\n",
    "    for mat in matches:\n",
    "        print(mat)\n",
    "else:\n",
    "    print(\"No matches found for pattern '.'.\")"
   ]
  },
  {
   "cell_type": "code",
   "execution_count": 5,
   "metadata": {},
   "outputs": [
    {
     "name": "stdout",
     "output_type": "stream",
     "text": [
      "<re.Match object; span=(55, 56), match='1'>\n",
      "<re.Match object; span=(56, 57), match='2'>\n",
      "<re.Match object; span=(57, 58), match='3'>\n",
      "<re.Match object; span=(58, 59), match='4'>\n",
      "<re.Match object; span=(59, 60), match='5'>\n",
      "<re.Match object; span=(60, 61), match='6'>\n",
      "<re.Match object; span=(61, 62), match='7'>\n",
      "<re.Match object; span=(62, 63), match='8'>\n",
      "<re.Match object; span=(63, 64), match='9'>\n",
      "<re.Match object; span=(64, 65), match='0'>\n",
      "<re.Match object; span=(66, 67), match='1'>\n",
      "<re.Match object; span=(67, 68), match='2'>\n",
      "<re.Match object; span=(68, 69), match='3'>\n",
      "<re.Match object; span=(174, 175), match='2'>\n",
      "<re.Match object; span=(177, 178), match='2'>\n",
      "<re.Match object; span=(180, 181), match='3'>\n",
      "<re.Match object; span=(185, 186), match='3'>\n",
      "<re.Match object; span=(186, 187), match='2'>\n",
      "<re.Match object; span=(187, 188), match='1'>\n",
      "<re.Match object; span=(189, 190), match='5'>\n",
      "<re.Match object; span=(190, 191), match='5'>\n",
      "<re.Match object; span=(191, 192), match='5'>\n",
      "<re.Match object; span=(193, 194), match='4'>\n",
      "<re.Match object; span=(194, 195), match='3'>\n",
      "<re.Match object; span=(195, 196), match='2'>\n",
      "<re.Match object; span=(196, 197), match='1'>\n",
      "<re.Match object; span=(198, 199), match='1'>\n",
      "<re.Match object; span=(199, 200), match='2'>\n",
      "<re.Match object; span=(200, 201), match='3'>\n",
      "<re.Match object; span=(202, 203), match='5'>\n",
      "<re.Match object; span=(203, 204), match='5'>\n",
      "<re.Match object; span=(204, 205), match='5'>\n",
      "<re.Match object; span=(206, 207), match='1'>\n",
      "<re.Match object; span=(207, 208), match='2'>\n",
      "<re.Match object; span=(208, 209), match='3'>\n",
      "<re.Match object; span=(209, 210), match='4'>\n",
      "<re.Match object; span=(211, 212), match='4'>\n",
      "<re.Match object; span=(214, 215), match='4'>\n",
      "<re.Match object; span=(217, 218), match='4'>\n",
      "<re.Match object; span=(236, 237), match='4'>\n",
      "<re.Match object; span=(239, 240), match='5'>\n",
      "<re.Match object; span=(242, 243), match='6'>\n"
     ]
    }
   ],
   "source": [
    "# find a digit we use \\d\n",
    "pattern = re.compile(r'\\d')\n",
    "matches = list(pattern.finditer(document))\n",
    "\n",
    "if matches:\n",
    "    for mat in matches:\n",
    "        print(mat)\n",
    "else:\n",
    "    print(\"No digits found in the document.\")\n"
   ]
  },
  {
   "cell_type": "code",
   "execution_count": 6,
   "metadata": {},
   "outputs": [
    {
     "name": "stdout",
     "output_type": "stream",
     "text": [
      "<re.Match object; span=(0, 1), match='\\n'>\n",
      "<re.Match object; span=(1, 2), match='a'>\n",
      "<re.Match object; span=(2, 3), match='b'>\n",
      "<re.Match object; span=(3, 4), match='c'>\n",
      "<re.Match object; span=(4, 5), match='d'>\n",
      "<re.Match object; span=(5, 6), match='e'>\n",
      "<re.Match object; span=(6, 7), match='f'>\n",
      "<re.Match object; span=(7, 8), match='g'>\n",
      "<re.Match object; span=(8, 9), match='h'>\n",
      "<re.Match object; span=(9, 10), match='i'>\n",
      "<re.Match object; span=(10, 11), match='j'>\n",
      "<re.Match object; span=(11, 12), match='k'>\n",
      "<re.Match object; span=(12, 13), match='l'>\n",
      "<re.Match object; span=(13, 14), match='m'>\n",
      "<re.Match object; span=(14, 15), match='n'>\n",
      "<re.Match object; span=(15, 16), match='o'>\n",
      "<re.Match object; span=(16, 17), match='p'>\n",
      "<re.Match object; span=(17, 18), match='q'>\n",
      "<re.Match object; span=(18, 19), match='u'>\n",
      "<re.Match object; span=(19, 20), match='r'>\n",
      "<re.Match object; span=(20, 21), match='t'>\n",
      "<re.Match object; span=(21, 22), match='u'>\n",
      "<re.Match object; span=(22, 23), match='v'>\n",
      "<re.Match object; span=(23, 24), match='w'>\n",
      "<re.Match object; span=(24, 25), match='x'>\n",
      "<re.Match object; span=(25, 26), match='y'>\n",
      "<re.Match object; span=(26, 27), match='z'>\n",
      "<re.Match object; span=(27, 28), match='\\n'>\n",
      "<re.Match object; span=(28, 29), match='A'>\n",
      "<re.Match object; span=(29, 30), match='B'>\n",
      "<re.Match object; span=(30, 31), match='C'>\n",
      "<re.Match object; span=(31, 32), match='D'>\n",
      "<re.Match object; span=(32, 33), match='E'>\n",
      "<re.Match object; span=(33, 34), match='F'>\n",
      "<re.Match object; span=(34, 35), match='G'>\n",
      "<re.Match object; span=(35, 36), match='H'>\n",
      "<re.Match object; span=(36, 37), match='I'>\n",
      "<re.Match object; span=(37, 38), match='J'>\n",
      "<re.Match object; span=(38, 39), match='K'>\n",
      "<re.Match object; span=(39, 40), match='L'>\n",
      "<re.Match object; span=(40, 41), match='M'>\n",
      "<re.Match object; span=(41, 42), match='N'>\n",
      "<re.Match object; span=(42, 43), match='O'>\n",
      "<re.Match object; span=(43, 44), match='P'>\n",
      "<re.Match object; span=(44, 45), match='Q'>\n",
      "<re.Match object; span=(45, 46), match='R'>\n",
      "<re.Match object; span=(46, 47), match='S'>\n",
      "<re.Match object; span=(47, 48), match='T'>\n",
      "<re.Match object; span=(48, 49), match='U'>\n",
      "<re.Match object; span=(49, 50), match='V'>\n",
      "<re.Match object; span=(50, 51), match='W'>\n",
      "<re.Match object; span=(51, 52), match='X'>\n",
      "<re.Match object; span=(52, 53), match='Y'>\n",
      "<re.Match object; span=(53, 54), match='Z'>\n",
      "<re.Match object; span=(54, 55), match='\\n'>\n",
      "<re.Match object; span=(65, 66), match='\\n'>\n",
      "<re.Match object; span=(69, 70), match='a'>\n",
      "<re.Match object; span=(70, 71), match='b'>\n",
      "<re.Match object; span=(71, 72), match='c'>\n",
      "<re.Match object; span=(72, 73), match='\\n'>\n",
      "<re.Match object; span=(73, 74), match='\\n'>\n",
      "<re.Match object; span=(74, 75), match='H'>\n",
      "<re.Match object; span=(75, 76), match='e'>\n",
      "<re.Match object; span=(76, 77), match='l'>\n",
      "<re.Match object; span=(77, 78), match='l'>\n",
      "<re.Match object; span=(78, 79), match='o'>\n",
      "<re.Match object; span=(79, 80), match=' '>\n",
      "<re.Match object; span=(80, 81), match='H'>\n",
      "<re.Match object; span=(81, 82), match='e'>\n",
      "<re.Match object; span=(82, 83), match='l'>\n",
      "<re.Match object; span=(83, 84), match='l'>\n",
      "<re.Match object; span=(84, 85), match='o'>\n",
      "<re.Match object; span=(85, 86), match='H'>\n",
      "<re.Match object; span=(86, 87), match='e'>\n",
      "<re.Match object; span=(87, 88), match='l'>\n",
      "<re.Match object; span=(88, 89), match='l'>\n",
      "<re.Match object; span=(89, 90), match='o'>\n",
      "<re.Match object; span=(90, 91), match=' '>\n",
      "<re.Match object; span=(91, 92), match='H'>\n",
      "<re.Match object; span=(92, 93), match='o'>\n",
      "<re.Match object; span=(93, 94), match='l'>\n",
      "<re.Match object; span=(94, 95), match='a'>\n",
      "<re.Match object; span=(95, 96), match='\\n'>\n",
      "<re.Match object; span=(96, 97), match='\\n'>\n",
      "<re.Match object; span=(97, 98), match='M'>\n",
      "<re.Match object; span=(98, 99), match='e'>\n",
      "<re.Match object; span=(99, 100), match='t'>\n",
      "<re.Match object; span=(100, 101), match='a'>\n",
      "<re.Match object; span=(101, 102), match='C'>\n",
      "<re.Match object; span=(102, 103), match='h'>\n",
      "<re.Match object; span=(103, 104), match='a'>\n",
      "<re.Match object; span=(104, 105), match='r'>\n",
      "<re.Match object; span=(105, 106), match='a'>\n",
      "<re.Match object; span=(106, 107), match='c'>\n",
      "<re.Match object; span=(107, 108), match='t'>\n",
      "<re.Match object; span=(108, 109), match='e'>\n",
      "<re.Match object; span=(109, 110), match='r'>\n",
      "<re.Match object; span=(110, 111), match='s'>\n",
      "<re.Match object; span=(111, 112), match=' '>\n",
      "<re.Match object; span=(112, 113), match='('>\n",
      "<re.Match object; span=(113, 114), match='N'>\n",
      "<re.Match object; span=(114, 115), match='e'>\n",
      "<re.Match object; span=(115, 116), match='e'>\n",
      "<re.Match object; span=(116, 117), match='d'>\n",
      "<re.Match object; span=(117, 118), match=' '>\n",
      "<re.Match object; span=(118, 119), match='t'>\n",
      "<re.Match object; span=(119, 120), match='o'>\n",
      "<re.Match object; span=(120, 121), match=' '>\n",
      "<re.Match object; span=(121, 122), match='b'>\n",
      "<re.Match object; span=(122, 123), match='e'>\n",
      "<re.Match object; span=(123, 124), match=' '>\n",
      "<re.Match object; span=(124, 125), match='e'>\n",
      "<re.Match object; span=(125, 126), match='s'>\n",
      "<re.Match object; span=(126, 127), match='c'>\n",
      "<re.Match object; span=(127, 128), match='a'>\n",
      "<re.Match object; span=(128, 129), match='p'>\n",
      "<re.Match object; span=(129, 130), match='e'>\n",
      "<re.Match object; span=(130, 131), match='d'>\n",
      "<re.Match object; span=(131, 132), match=')'>\n",
      "<re.Match object; span=(132, 133), match=':'>\n",
      "<re.Match object; span=(133, 134), match='\\n'>\n",
      "<re.Match object; span=(134, 135), match='.'>\n",
      "<re.Match object; span=(135, 136), match=' '>\n",
      "<re.Match object; span=(136, 137), match='^'>\n",
      "<re.Match object; span=(137, 138), match=' '>\n",
      "<re.Match object; span=(138, 139), match='$'>\n",
      "<re.Match object; span=(139, 140), match=' '>\n",
      "<re.Match object; span=(140, 141), match='*'>\n",
      "<re.Match object; span=(141, 142), match=' '>\n",
      "<re.Match object; span=(142, 143), match='+'>\n",
      "<re.Match object; span=(143, 144), match=' '>\n",
      "<re.Match object; span=(144, 145), match='?'>\n",
      "<re.Match object; span=(145, 146), match=' '>\n",
      "<re.Match object; span=(146, 147), match='{'>\n",
      "<re.Match object; span=(147, 148), match=' '>\n",
      "<re.Match object; span=(148, 149), match='}'>\n",
      "<re.Match object; span=(149, 150), match=' '>\n",
      "<re.Match object; span=(150, 151), match='['>\n",
      "<re.Match object; span=(151, 152), match=' '>\n",
      "<re.Match object; span=(152, 153), match=']'>\n",
      "<re.Match object; span=(153, 154), match=' '>\n",
      "<re.Match object; span=(154, 155), match='\\\\'>\n",
      "<re.Match object; span=(155, 156), match=' '>\n",
      "<re.Match object; span=(156, 157), match='|'>\n",
      "<re.Match object; span=(157, 158), match=' '>\n",
      "<re.Match object; span=(158, 159), match='('>\n",
      "<re.Match object; span=(159, 160), match=' '>\n",
      "<re.Match object; span=(160, 161), match=')'>\n",
      "<re.Match object; span=(161, 162), match='\\n'>\n",
      "<re.Match object; span=(162, 163), match='\\n'>\n",
      "<re.Match object; span=(163, 164), match='u'>\n",
      "<re.Match object; span=(164, 165), match='t'>\n",
      "<re.Match object; span=(165, 166), match='e'>\n",
      "<re.Match object; span=(166, 167), match='x'>\n",
      "<re.Match object; span=(167, 168), match='a'>\n",
      "<re.Match object; span=(168, 169), match='s'>\n",
      "<re.Match object; span=(169, 170), match='.'>\n",
      "<re.Match object; span=(170, 171), match='e'>\n",
      "<re.Match object; span=(171, 172), match='d'>\n",
      "<re.Match object; span=(172, 173), match='u'>\n",
      "<re.Match object; span=(173, 174), match='\\n'>\n",
      "<re.Match object; span=(175, 176), match='a'>\n",
      "<re.Match object; span=(176, 177), match=' '>\n",
      "<re.Match object; span=(178, 179), match='b'>\n",
      "<re.Match object; span=(179, 180), match=' '>\n",
      "<re.Match object; span=(181, 182), match='_'>\n",
      "<re.Match object; span=(182, 183), match=' '>\n",
      "<re.Match object; span=(183, 184), match='_'>\n",
      "<re.Match object; span=(184, 185), match='\\n'>\n",
      "<re.Match object; span=(188, 189), match='-'>\n",
      "<re.Match object; span=(192, 193), match='-'>\n",
      "<re.Match object; span=(197, 198), match='\\n'>\n",
      "<re.Match object; span=(201, 202), match='.'>\n",
      "<re.Match object; span=(205, 206), match='.'>\n",
      "<re.Match object; span=(210, 211), match='\\n'>\n",
      "<re.Match object; span=(212, 213), match='a'>\n",
      "<re.Match object; span=(213, 214), match=' '>\n",
      "<re.Match object; span=(215, 216), match='b'>\n",
      "<re.Match object; span=(216, 217), match=' '>\n",
      "<re.Match object; span=(218, 219), match='c'>\n",
      "<re.Match object; span=(219, 220), match='\\n'>\n",
      "<re.Match object; span=(220, 221), match='l'>\n",
      "<re.Match object; span=(221, 222), match='i'>\n",
      "<re.Match object; span=(222, 223), match='s'>\n",
      "<re.Match object; span=(223, 224), match='a'>\n",
      "<re.Match object; span=(224, 225), match='@'>\n",
      "<re.Match object; span=(225, 226), match='m'>\n",
      "<re.Match object; span=(226, 227), match='y'>\n",
      "<re.Match object; span=(227, 228), match='o'>\n",
      "<re.Match object; span=(228, 229), match='r'>\n",
      "<re.Match object; span=(229, 230), match='g'>\n",
      "<re.Match object; span=(230, 231), match='.'>\n",
      "<re.Match object; span=(231, 232), match='e'>\n",
      "<re.Match object; span=(232, 233), match='d'>\n",
      "<re.Match object; span=(233, 234), match='u'>\n",
      "<re.Match object; span=(234, 235), match='\\n'>\n",
      "<re.Match object; span=(235, 236), match='a'>\n",
      "<re.Match object; span=(237, 238), match=' '>\n",
      "<re.Match object; span=(238, 239), match='b'>\n",
      "<re.Match object; span=(240, 241), match=' '>\n",
      "<re.Match object; span=(241, 242), match='c'>\n",
      "<re.Match object; span=(243, 244), match='\\n'>\n",
      "<re.Match object; span=(244, 245), match='M'>\n",
      "<re.Match object; span=(245, 246), match='r'>\n",
      "<re.Match object; span=(246, 247), match='.'>\n",
      "<re.Match object; span=(247, 248), match=' '>\n",
      "<re.Match object; span=(248, 249), match='J'>\n",
      "<re.Match object; span=(249, 250), match='o'>\n",
      "<re.Match object; span=(250, 251), match='h'>\n",
      "<re.Match object; span=(251, 252), match='n'>\n",
      "<re.Match object; span=(252, 253), match='s'>\n",
      "<re.Match object; span=(253, 254), match='o'>\n",
      "<re.Match object; span=(254, 255), match='n'>\n",
      "<re.Match object; span=(255, 256), match='\\n'>\n",
      "<re.Match object; span=(256, 257), match='M'>\n",
      "<re.Match object; span=(257, 258), match='r'>\n",
      "<re.Match object; span=(258, 259), match=' '>\n",
      "<re.Match object; span=(259, 260), match='S'>\n",
      "<re.Match object; span=(260, 261), match='m'>\n",
      "<re.Match object; span=(261, 262), match='i'>\n",
      "<re.Match object; span=(262, 263), match='t'>\n",
      "<re.Match object; span=(263, 264), match='h'>\n",
      "<re.Match object; span=(264, 265), match='\\n'>\n",
      "<re.Match object; span=(265, 266), match='M'>\n",
      "<re.Match object; span=(266, 267), match='s'>\n",
      "<re.Match object; span=(267, 268), match=' '>\n",
      "<re.Match object; span=(268, 269), match='D'>\n",
      "<re.Match object; span=(269, 270), match='a'>\n",
      "<re.Match object; span=(270, 271), match='v'>\n",
      "<re.Match object; span=(271, 272), match='i'>\n",
      "<re.Match object; span=(272, 273), match='s'>\n",
      "<re.Match object; span=(273, 274), match='\\n'>\n",
      "<re.Match object; span=(274, 275), match='M'>\n",
      "<re.Match object; span=(275, 276), match='r'>\n",
      "<re.Match object; span=(276, 277), match='s'>\n",
      "<re.Match object; span=(277, 278), match='.'>\n",
      "<re.Match object; span=(278, 279), match=' '>\n",
      "<re.Match object; span=(279, 280), match='R'>\n",
      "<re.Match object; span=(280, 281), match='o'>\n",
      "<re.Match object; span=(281, 282), match='b'>\n",
      "<re.Match object; span=(282, 283), match='i'>\n",
      "<re.Match object; span=(283, 284), match='n'>\n",
      "<re.Match object; span=(284, 285), match='s'>\n",
      "<re.Match object; span=(285, 286), match='o'>\n",
      "<re.Match object; span=(286, 287), match='n'>\n",
      "<re.Match object; span=(287, 288), match='\\n'>\n",
      "<re.Match object; span=(288, 289), match='M'>\n",
      "<re.Match object; span=(289, 290), match='r'>\n",
      "<re.Match object; span=(290, 291), match='.'>\n",
      "<re.Match object; span=(291, 292), match=' '>\n",
      "<re.Match object; span=(292, 293), match='L'>\n",
      "<re.Match object; span=(293, 294), match='e'>\n",
      "<re.Match object; span=(294, 295), match='w'>\n",
      "<re.Match object; span=(295, 296), match='i'>\n",
      "<re.Match object; span=(296, 297), match='s'>\n",
      "<re.Match object; span=(297, 298), match='\\n'>\n",
      "<re.Match object; span=(298, 299), match='M'>\n",
      "<re.Match object; span=(299, 300), match='r'>\n",
      "<re.Match object; span=(300, 301), match=' '>\n",
      "<re.Match object; span=(301, 302), match='T'>\n",
      "<re.Match object; span=(302, 303), match='\\n'>\n"
     ]
    }
   ],
   "source": [
    "# find a non-digit character we use \\D\n",
    "pattern = re.compile(r'\\D')\n",
    "matches = list(pattern.finditer(document))\n",
    "if matches:\n",
    "    for mat in matches:\n",
    "        print(mat)\n",
    "else:\n",
    "    print(\"No non-digit characters found in the document.\")\n"
   ]
  },
  {
   "cell_type": "code",
   "execution_count": 7,
   "metadata": {},
   "outputs": [
    {
     "name": "stdout",
     "output_type": "stream",
     "text": [
      "<re.Match object; span=(55, 57), match='12'>\n",
      "<re.Match object; span=(57, 59), match='34'>\n",
      "<re.Match object; span=(59, 61), match='56'>\n",
      "<re.Match object; span=(61, 63), match='78'>\n",
      "<re.Match object; span=(63, 65), match='90'>\n",
      "<re.Match object; span=(66, 68), match='12'>\n",
      "<re.Match object; span=(68, 70), match='3a'>\n",
      "<re.Match object; span=(174, 176), match='2a'>\n",
      "<re.Match object; span=(177, 179), match='2b'>\n",
      "<re.Match object; span=(180, 182), match='3_'>\n",
      "<re.Match object; span=(185, 187), match='32'>\n",
      "<re.Match object; span=(189, 191), match='55'>\n",
      "<re.Match object; span=(193, 195), match='43'>\n",
      "<re.Match object; span=(195, 197), match='21'>\n",
      "<re.Match object; span=(198, 200), match='12'>\n",
      "<re.Match object; span=(202, 204), match='55'>\n",
      "<re.Match object; span=(206, 208), match='12'>\n",
      "<re.Match object; span=(208, 210), match='34'>\n",
      "<re.Match object; span=(211, 213), match='4a'>\n",
      "<re.Match object; span=(214, 216), match='4b'>\n",
      "<re.Match object; span=(217, 219), match='4c'>\n"
     ]
    }
   ],
   "source": [
    "# finds a digit followed by a word character, \\w is used for word characters (alphanumeric + underscore)\n",
    "pattern = re.compile(r'\\d\\w')\n",
    "matches = list(pattern.finditer(document))\n",
    "if matches:\n",
    "    for mat in matches:\n",
    "        print(mat)\n",
    "else:\n",
    "    print(\"No matches found for pattern '\\\\d\\\\w'.\")"
   ]
  },
  {
   "cell_type": "code",
   "execution_count": 8,
   "metadata": {},
   "outputs": [
    {
     "name": "stdout",
     "output_type": "stream",
     "text": [
      "<re.Match object; span=(64, 66), match='0\\n'>\n",
      "<re.Match object; span=(196, 198), match='1\\n'>\n",
      "<re.Match object; span=(209, 211), match='4\\n'>\n",
      "<re.Match object; span=(236, 238), match='4 '>\n",
      "<re.Match object; span=(239, 241), match='5 '>\n",
      "<re.Match object; span=(242, 244), match='6\\n'>\n"
     ]
    }
   ],
   "source": [
    "# finds a digit followed by a whitespace character, \\s is used for whitespace characters (space, tab, newline)\n",
    "pattern = re.compile(r'\\d\\s')\n",
    "matches = list(pattern.finditer(document))\n",
    "if matches:\n",
    "    for mat in matches:\n",
    "        print(mat)\n",
    "else:    \n",
    "    print(\"No matches found for pattern digit followed by whitespace '\\\\d\\\\s'.\")\n"
   ]
  },
  {
   "cell_type": "markdown",
   "metadata": {},
   "source": [
    "### Word boundary"
   ]
  },
  {
   "cell_type": "code",
   "execution_count": 9,
   "metadata": {},
   "outputs": [
    {
     "name": "stdout",
     "output_type": "stream",
     "text": [
      "<re.Match object; span=(74, 79), match='Hello'>\n",
      "<re.Match object; span=(80, 85), match='Hello'>\n",
      "<re.Match object; span=(85, 90), match='Hello'>\n"
     ]
    }
   ],
   "source": [
    "# Hello HelloHello\n",
    "pattern = re.compile(r'Hello')\n",
    "matches = list(pattern.finditer(document))\n",
    "if matches:\n",
    "    for mat in matches:\n",
    "        print(mat)\n",
    "else:\n",
    "    print(\"No matches found for pattern 'Hello'.\")"
   ]
  },
  {
   "cell_type": "code",
   "execution_count": 10,
   "metadata": {},
   "outputs": [
    {
     "name": "stdout",
     "output_type": "stream",
     "text": [
      "<re.Match object; span=(74, 79), match='Hello'>\n",
      "<re.Match object; span=(85, 90), match='Hello'>\n"
     ]
    }
   ],
   "source": [
    "# Hello HelloHello with word boundary\n",
    "# \\b is a word boundary\n",
    "pattern = re.compile(r'Hello\\b') \n",
    "matches = list(pattern.finditer(document))\n",
    "if matches:\n",
    "    for mat in matches:\n",
    "        print(mat)\n",
    "else:\n",
    "    print(\"No matches found for pattern 'Hello\\\\b'.\")"
   ]
  },
  {
   "cell_type": "code",
   "execution_count": 11,
   "metadata": {},
   "outputs": [
    {
     "name": "stdout",
     "output_type": "stream",
     "text": [
      "<re.Match object; span=(74, 79), match='Hello'>\n"
     ]
    }
   ],
   "source": [
    "pattern = re.compile(r'\\bHello\\b')\n",
    "matches = list(pattern.finditer(document))\n",
    "if matches:\n",
    "    for mat in matches:\n",
    "        print(mat)\n",
    "else:\n",
    "    print(\"No matches found for pattern '\\\\bHello\\\\b'.\")"
   ]
  },
  {
   "cell_type": "code",
   "execution_count": 12,
   "metadata": {},
   "outputs": [
    {
     "name": "stdout",
     "output_type": "stream",
     "text": [
      "<re.Match object; span=(85, 90), match='Hello'>\n"
     ]
    }
   ],
   "source": [
    "# Hello HelloHello with non-word boundary\n",
    "# \\B is a non-word boundary\n",
    "# \\b is a word boundary\n",
    "\n",
    "pattern = re.compile(r'\\BHello\\b')\n",
    "matches = list(pattern.finditer(document))\n",
    "\n",
    "if matches:\n",
    "    for mat in matches:\n",
    "        print(mat)\n",
    "else:\n",
    "    print(\"No matches found for pattern '\\\\BHello\\\\b'.\")\n"
   ]
  },
  {
   "cell_type": "code",
   "execution_count": 13,
   "metadata": {
    "scrolled": true
   },
   "outputs": [
    {
     "name": "stdout",
     "output_type": "stream",
     "text": [
      "<re.Match object; span=(55, 56), match='1'>\n",
      "<re.Match object; span=(66, 67), match='1'>\n",
      "<re.Match object; span=(174, 175), match='2'>\n",
      "<re.Match object; span=(177, 178), match='2'>\n",
      "<re.Match object; span=(180, 181), match='3'>\n",
      "<re.Match object; span=(185, 186), match='3'>\n",
      "<re.Match object; span=(189, 190), match='5'>\n",
      "<re.Match object; span=(193, 194), match='4'>\n",
      "<re.Match object; span=(198, 199), match='1'>\n",
      "<re.Match object; span=(202, 203), match='5'>\n",
      "<re.Match object; span=(206, 207), match='1'>\n",
      "<re.Match object; span=(211, 212), match='4'>\n",
      "<re.Match object; span=(214, 215), match='4'>\n",
      "<re.Match object; span=(217, 218), match='4'>\n"
     ]
    }
   ],
   "source": [
    "# finds a digit at the start of a word\n",
    "# \\b is used to denote a word boundary\n",
    "# \\d is used to denote a digit\n",
    "\n",
    "pattern = re.compile(r'\\b\\d')\n",
    "matches = list(pattern.finditer(document))\n",
    "\n",
    "if matches:\n",
    "    for mat in matches:\n",
    "        print(mat)\n",
    "else:\n",
    "    print(\"No matches found for pattern '\\\\b\\\\d'.\")\n",
    "    "
   ]
  },
  {
   "cell_type": "code",
   "execution_count": 14,
   "metadata": {},
   "outputs": [
    {
     "name": "stdout",
     "output_type": "stream",
     "text": [
      "<re.Match object; span=(0, 1), match='\\n'>\n"
     ]
    }
   ],
   "source": [
    "# finds a whitespace character at the start of a line\n",
    "# ^ is used to denote the start of a line\n",
    "\n",
    "pattern = re.compile(r'^\\s')\n",
    "matches = list(pattern.finditer(document))\n",
    "\n",
    "if matches:\n",
    "    for mat in matches:\n",
    "        print(mat)\n",
    "else:\n",
    "    print(\"No matches found for pattern '^\\\\s'.\")\n",
    "    "
   ]
  },
  {
   "cell_type": "markdown",
   "metadata": {},
   "source": [
    "### Character sets"
   ]
  },
  {
   "cell_type": "code",
   "execution_count": 15,
   "metadata": {},
   "outputs": [
    {
     "name": "stdout",
     "output_type": "stream",
     "text": [
      "<re.Match object; span=(55, 57), match='12'>\n",
      "<re.Match object; span=(57, 59), match='34'>\n",
      "<re.Match object; span=(66, 68), match='12'>\n",
      "<re.Match object; span=(68, 70), match='3a'>\n",
      "<re.Match object; span=(174, 176), match='2a'>\n",
      "<re.Match object; span=(177, 179), match='2b'>\n",
      "<re.Match object; span=(180, 182), match='3_'>\n",
      "<re.Match object; span=(185, 187), match='32'>\n",
      "<re.Match object; span=(194, 196), match='32'>\n",
      "<re.Match object; span=(198, 200), match='12'>\n",
      "<re.Match object; span=(206, 208), match='12'>\n",
      "<re.Match object; span=(208, 210), match='34'>\n"
     ]
    }
   ],
   "source": [
    "# any digits in [123] followed by a word character\n",
    "# \\w is used to denote a word character (alphanumeric + underscore) \n",
    "\n",
    "pattern = re.compile(r'[123]\\w')\n",
    "matches = list(pattern.finditer(document))\n",
    "\n",
    "if matches:\n",
    "    for mat in matches:\n",
    "        print(mat)\n",
    "else:\n",
    "    print(\"No matches found for pattern '[123]\\\\w'.\")\n"
   ]
  },
  {
   "cell_type": "code",
   "execution_count": 16,
   "metadata": {},
   "outputs": [
    {
     "name": "stdout",
     "output_type": "stream",
     "text": [
      "<re.Match object; span=(1, 3), match='ab'>\n",
      "<re.Match object; span=(3, 5), match='cd'>\n",
      "<re.Match object; span=(5, 7), match='ef'>\n",
      "<re.Match object; span=(7, 9), match='gh'>\n",
      "<re.Match object; span=(9, 11), match='ij'>\n",
      "<re.Match object; span=(11, 13), match='kl'>\n",
      "<re.Match object; span=(13, 15), match='mn'>\n",
      "<re.Match object; span=(15, 17), match='op'>\n",
      "<re.Match object; span=(17, 19), match='qu'>\n",
      "<re.Match object; span=(19, 21), match='rt'>\n",
      "<re.Match object; span=(21, 23), match='uv'>\n",
      "<re.Match object; span=(23, 25), match='wx'>\n",
      "<re.Match object; span=(25, 27), match='yz'>\n",
      "<re.Match object; span=(69, 71), match='ab'>\n",
      "<re.Match object; span=(75, 77), match='el'>\n",
      "<re.Match object; span=(77, 79), match='lo'>\n",
      "<re.Match object; span=(81, 83), match='el'>\n",
      "<re.Match object; span=(83, 85), match='lo'>\n",
      "<re.Match object; span=(86, 88), match='el'>\n",
      "<re.Match object; span=(88, 90), match='lo'>\n",
      "<re.Match object; span=(92, 94), match='ol'>\n",
      "<re.Match object; span=(98, 100), match='et'>\n",
      "<re.Match object; span=(102, 104), match='ha'>\n",
      "<re.Match object; span=(104, 106), match='ra'>\n",
      "<re.Match object; span=(106, 108), match='ct'>\n",
      "<re.Match object; span=(108, 110), match='er'>\n",
      "<re.Match object; span=(114, 116), match='ee'>\n",
      "<re.Match object; span=(118, 120), match='to'>\n",
      "<re.Match object; span=(121, 123), match='be'>\n",
      "<re.Match object; span=(124, 126), match='es'>\n",
      "<re.Match object; span=(126, 128), match='ca'>\n",
      "<re.Match object; span=(128, 130), match='pe'>\n",
      "<re.Match object; span=(163, 165), match='ut'>\n",
      "<re.Match object; span=(165, 167), match='ex'>\n",
      "<re.Match object; span=(167, 169), match='as'>\n",
      "<re.Match object; span=(170, 172), match='ed'>\n",
      "<re.Match object; span=(220, 222), match='li'>\n",
      "<re.Match object; span=(222, 224), match='sa'>\n",
      "<re.Match object; span=(225, 227), match='my'>\n",
      "<re.Match object; span=(227, 229), match='or'>\n",
      "<re.Match object; span=(231, 233), match='ed'>\n",
      "<re.Match object; span=(249, 251), match='oh'>\n",
      "<re.Match object; span=(251, 253), match='ns'>\n",
      "<re.Match object; span=(253, 255), match='on'>\n",
      "<re.Match object; span=(260, 262), match='mi'>\n",
      "<re.Match object; span=(262, 264), match='th'>\n",
      "<re.Match object; span=(269, 271), match='av'>\n",
      "<re.Match object; span=(271, 273), match='is'>\n",
      "<re.Match object; span=(275, 277), match='rs'>\n",
      "<re.Match object; span=(280, 282), match='ob'>\n",
      "<re.Match object; span=(282, 284), match='in'>\n",
      "<re.Match object; span=(284, 286), match='so'>\n",
      "<re.Match object; span=(293, 295), match='ew'>\n",
      "<re.Match object; span=(295, 297), match='is'>\n"
     ]
    }
   ],
   "source": [
    "# find 2 consecutive lowercase letters\n",
    "# [a-z] is used to denote lowercase letters\n",
    "\n",
    "pattern = re.compile(r'[a-z][a-z]')\n",
    "matches = list(pattern.finditer(document))\n",
    "\n",
    "if matches:\n",
    "    for mat in matches:\n",
    "        print(mat)\n",
    "else:\n",
    "    print(\"No matches found for pattern '[a-z][a-z]'.\")\n",
    "    "
   ]
  },
  {
   "cell_type": "code",
   "execution_count": 17,
   "metadata": {},
   "outputs": [
    {
     "name": "stdout",
     "output_type": "stream",
     "text": [
      "<re.Match object; span=(1, 3), match='ab'>\n",
      "<re.Match object; span=(3, 5), match='cd'>\n",
      "<re.Match object; span=(5, 7), match='ef'>\n",
      "<re.Match object; span=(7, 9), match='gh'>\n",
      "<re.Match object; span=(9, 11), match='ij'>\n",
      "<re.Match object; span=(11, 13), match='kl'>\n",
      "<re.Match object; span=(13, 15), match='mn'>\n",
      "<re.Match object; span=(15, 17), match='op'>\n",
      "<re.Match object; span=(17, 19), match='qu'>\n",
      "<re.Match object; span=(19, 21), match='rt'>\n",
      "<re.Match object; span=(21, 23), match='uv'>\n",
      "<re.Match object; span=(23, 25), match='wx'>\n",
      "<re.Match object; span=(25, 27), match='yz'>\n",
      "<re.Match object; span=(28, 30), match='AB'>\n",
      "<re.Match object; span=(30, 32), match='CD'>\n",
      "<re.Match object; span=(32, 34), match='EF'>\n",
      "<re.Match object; span=(34, 36), match='GH'>\n",
      "<re.Match object; span=(36, 38), match='IJ'>\n",
      "<re.Match object; span=(38, 40), match='KL'>\n",
      "<re.Match object; span=(40, 42), match='MN'>\n",
      "<re.Match object; span=(42, 44), match='OP'>\n",
      "<re.Match object; span=(44, 46), match='QR'>\n",
      "<re.Match object; span=(46, 48), match='ST'>\n",
      "<re.Match object; span=(48, 50), match='UV'>\n",
      "<re.Match object; span=(50, 52), match='WX'>\n",
      "<re.Match object; span=(52, 54), match='YZ'>\n",
      "<re.Match object; span=(68, 70), match='3a'>\n",
      "<re.Match object; span=(70, 72), match='bc'>\n",
      "<re.Match object; span=(74, 76), match='He'>\n",
      "<re.Match object; span=(76, 78), match='ll'>\n",
      "<re.Match object; span=(80, 82), match='He'>\n",
      "<re.Match object; span=(82, 84), match='ll'>\n",
      "<re.Match object; span=(84, 86), match='oH'>\n",
      "<re.Match object; span=(86, 88), match='el'>\n",
      "<re.Match object; span=(88, 90), match='lo'>\n",
      "<re.Match object; span=(91, 93), match='Ho'>\n",
      "<re.Match object; span=(93, 95), match='la'>\n",
      "<re.Match object; span=(97, 99), match='Me'>\n",
      "<re.Match object; span=(99, 101), match='ta'>\n",
      "<re.Match object; span=(101, 103), match='Ch'>\n",
      "<re.Match object; span=(103, 105), match='ar'>\n",
      "<re.Match object; span=(105, 107), match='ac'>\n",
      "<re.Match object; span=(107, 109), match='te'>\n",
      "<re.Match object; span=(109, 111), match='rs'>\n",
      "<re.Match object; span=(113, 115), match='Ne'>\n",
      "<re.Match object; span=(115, 117), match='ed'>\n",
      "<re.Match object; span=(118, 120), match='to'>\n",
      "<re.Match object; span=(121, 123), match='be'>\n",
      "<re.Match object; span=(124, 126), match='es'>\n",
      "<re.Match object; span=(126, 128), match='ca'>\n",
      "<re.Match object; span=(128, 130), match='pe'>\n",
      "<re.Match object; span=(163, 165), match='ut'>\n",
      "<re.Match object; span=(165, 167), match='ex'>\n",
      "<re.Match object; span=(167, 169), match='as'>\n",
      "<re.Match object; span=(170, 172), match='ed'>\n",
      "<re.Match object; span=(174, 176), match='2a'>\n",
      "<re.Match object; span=(177, 179), match='2b'>\n",
      "<re.Match object; span=(180, 182), match='3_'>\n",
      "<re.Match object; span=(187, 189), match='1-'>\n",
      "<re.Match object; span=(191, 193), match='5-'>\n",
      "<re.Match object; span=(211, 213), match='4a'>\n",
      "<re.Match object; span=(214, 216), match='4b'>\n",
      "<re.Match object; span=(217, 219), match='4c'>\n",
      "<re.Match object; span=(220, 222), match='li'>\n",
      "<re.Match object; span=(222, 224), match='sa'>\n",
      "<re.Match object; span=(225, 227), match='my'>\n",
      "<re.Match object; span=(227, 229), match='or'>\n",
      "<re.Match object; span=(231, 233), match='ed'>\n",
      "<re.Match object; span=(244, 246), match='Mr'>\n",
      "<re.Match object; span=(248, 250), match='Jo'>\n",
      "<re.Match object; span=(250, 252), match='hn'>\n",
      "<re.Match object; span=(252, 254), match='so'>\n",
      "<re.Match object; span=(256, 258), match='Mr'>\n",
      "<re.Match object; span=(259, 261), match='Sm'>\n",
      "<re.Match object; span=(261, 263), match='it'>\n",
      "<re.Match object; span=(265, 267), match='Ms'>\n",
      "<re.Match object; span=(268, 270), match='Da'>\n",
      "<re.Match object; span=(270, 272), match='vi'>\n",
      "<re.Match object; span=(274, 276), match='Mr'>\n",
      "<re.Match object; span=(279, 281), match='Ro'>\n",
      "<re.Match object; span=(281, 283), match='bi'>\n",
      "<re.Match object; span=(283, 285), match='ns'>\n",
      "<re.Match object; span=(285, 287), match='on'>\n",
      "<re.Match object; span=(288, 290), match='Mr'>\n",
      "<re.Match object; span=(292, 294), match='Le'>\n",
      "<re.Match object; span=(294, 296), match='wi'>\n",
      "<re.Match object; span=(298, 300), match='Mr'>\n"
     ]
    }
   ],
   "source": [
    "# [a-zA-Z0-9][a-zA-Z-] finds a letter or digit followed by a letter or hyphen\n",
    "# [a-zA-Z0-9] is used to denote letters and digits, [a-zA-Z-] is used to denote letters and hyphen\n",
    "\n",
    "pattern = re.compile(r'[a-zA-Z0-9][a-zA-z-]')\n",
    "\n",
    "matches = list(pattern.finditer(document))\n",
    "\n",
    "if matches:\n",
    "    for mat in matches:\n",
    "        print(mat)\n",
    "else:\n",
    "    print(\"No matches found for pattern '[a-zA-Z0-9][a-zA-z-]'.\")"
   ]
  },
  {
   "cell_type": "code",
   "execution_count": 18,
   "metadata": {},
   "outputs": [
    {
     "name": "stdout",
     "output_type": "stream",
     "text": [
      "<re.Match object; span=(26, 28), match='z\\n'>\n",
      "<re.Match object; span=(53, 55), match='Z\\n'>\n",
      "<re.Match object; span=(71, 73), match='c\\n'>\n",
      "<re.Match object; span=(78, 80), match='o '>\n",
      "<re.Match object; span=(89, 91), match='o '>\n",
      "<re.Match object; span=(94, 96), match='a\\n'>\n",
      "<re.Match object; span=(110, 112), match='s '>\n",
      "<re.Match object; span=(116, 118), match='d '>\n",
      "<re.Match object; span=(119, 121), match='o '>\n",
      "<re.Match object; span=(122, 124), match='e '>\n",
      "<re.Match object; span=(130, 132), match='d)'>\n",
      "<re.Match object; span=(168, 170), match='s.'>\n",
      "<re.Match object; span=(172, 174), match='u\\n'>\n",
      "<re.Match object; span=(175, 177), match='a '>\n",
      "<re.Match object; span=(178, 180), match='b '>\n",
      "<re.Match object; span=(212, 214), match='a '>\n",
      "<re.Match object; span=(215, 217), match='b '>\n",
      "<re.Match object; span=(218, 220), match='c\\n'>\n",
      "<re.Match object; span=(223, 225), match='a@'>\n",
      "<re.Match object; span=(229, 231), match='g.'>\n",
      "<re.Match object; span=(233, 235), match='u\\n'>\n",
      "<re.Match object; span=(235, 237), match='a4'>\n",
      "<re.Match object; span=(238, 240), match='b5'>\n",
      "<re.Match object; span=(241, 243), match='c6'>\n",
      "<re.Match object; span=(245, 247), match='r.'>\n",
      "<re.Match object; span=(254, 256), match='n\\n'>\n",
      "<re.Match object; span=(257, 259), match='r '>\n",
      "<re.Match object; span=(263, 265), match='h\\n'>\n",
      "<re.Match object; span=(266, 268), match='s '>\n",
      "<re.Match object; span=(272, 274), match='s\\n'>\n",
      "<re.Match object; span=(276, 278), match='s.'>\n",
      "<re.Match object; span=(286, 288), match='n\\n'>\n",
      "<re.Match object; span=(289, 291), match='r.'>\n",
      "<re.Match object; span=(296, 298), match='s\\n'>\n",
      "<re.Match object; span=(299, 301), match='r '>\n",
      "<re.Match object; span=(301, 303), match='T\\n'>\n"
     ]
    }
   ],
   "source": [
    "# finds a letter followed by a non-letter character\n",
    "# [a-zA-Z] is used to denote letters, [^a-zA-z] is used to denote non-letter characters\n",
    "\n",
    "pattern = re.compile(r'[a-zA-Z][^a-zA-z]')\n",
    "\n",
    "matches = list(pattern.finditer(document))\n",
    "\n",
    "if matches:\n",
    "    for mat in matches:\n",
    "        print(mat)\n",
    "else:\n",
    "    print(\"No matches found for pattern '[a-zA-Z][^a-zA-z]'.\")\n"
   ]
  },
  {
   "cell_type": "markdown",
   "metadata": {},
   "source": [
    "### Character groups"
   ]
  },
  {
   "cell_type": "code",
   "execution_count": 19,
   "metadata": {},
   "outputs": [
    {
     "name": "stdout",
     "output_type": "stream",
     "text": [
      "<re.Match object; span=(69, 72), match='abc'>\n",
      "<re.Match object; span=(164, 169), match='texas'>\n",
      "<re.Match object; span=(170, 173), match='edu'>\n",
      "<re.Match object; span=(231, 234), match='edu'>\n"
     ]
    }
   ],
   "source": [
    "# \\b is a word boundary\n",
    "# finds 'abc', 'edu', or 'texas' at a word boundary\n",
    "# (abc|edu|texas) is used to denote a group of alternatives\n",
    "\n",
    "pattern = re.compile(r'(abc|edu|texas)\\b')\n",
    "\n",
    "matches = list(pattern.finditer(document))\n",
    "\n",
    "if matches:\n",
    "    for mat in matches:\n",
    "        print(mat)\n",
    "else:\n",
    "    print(\"No matches found for pattern '(abc|edu|texas)\\\\b'.\")\n",
    "    "
   ]
  },
  {
   "cell_type": "markdown",
   "metadata": {},
   "source": [
    "### Quantifiers"
   ]
  },
  {
   "cell_type": "code",
   "execution_count": 20,
   "metadata": {},
   "outputs": [
    {
     "name": "stdout",
     "output_type": "stream",
     "text": [
      "<re.Match object; span=(244, 249), match='Mr. J'>\n",
      "<re.Match object; span=(256, 260), match='Mr S'>\n",
      "<re.Match object; span=(288, 293), match='Mr. L'>\n",
      "<re.Match object; span=(298, 302), match='Mr T'>\n"
     ]
    }
   ],
   "source": [
    "# \\. is used to denote a literal dot\n",
    "# ? is used to denote zero or one occurrence of the preceding character\n",
    "# \\s is used to denote a whitespace character\n",
    "# [A-Z] is used to denote uppercase letters\n",
    "\n",
    "pattern = re.compile(r'Mr\\.?\\s[A-Z]')\n",
    "\n",
    "matches = list(pattern.finditer(document))\n",
    "\n",
    "if matches:\n",
    "    for mat in matches:\n",
    "        print(mat)\n",
    "else:\n",
    "    print(\"No matches found for pattern 'Mr\\\\.\\\\?\\\\s[A-Z]'.\")"
   ]
  },
  {
   "cell_type": "code",
   "execution_count": 21,
   "metadata": {},
   "outputs": [
    {
     "name": "stdout",
     "output_type": "stream",
     "text": [
      "<re.Match object; span=(244, 255), match='Mr. Johnson'>\n",
      "<re.Match object; span=(256, 264), match='Mr Smith'>\n",
      "<re.Match object; span=(288, 297), match='Mr. Lewis'>\n",
      "<re.Match object; span=(298, 302), match='Mr T'>\n"
     ]
    }
   ],
   "source": [
    "# \\. is used to denote a literal dot\n",
    "# ? is used to denote zero or one occurrence of the preceding character\n",
    "# \\s is used to denote a whitespace character\n",
    "# [A-Z][a-z]* is used to denote an uppercase letter followed by zero or more lowercase letters\n",
    "# * is used to denote zero or more occurrences of the preceding character\n",
    "\n",
    "pattern = re.compile(r'Mr\\.?\\s[A-Z][a-z]*')\n",
    "\n",
    "matches = list(pattern.finditer(document))\n",
    "\n",
    "if matches:\n",
    "    for mat in matches:\n",
    "        print(mat)\n",
    "else:\n",
    "    print(\"No matches found for pattern 'Mr\\\\.\\\\?\\\\s[A-Z][a-z]*'.\")"
   ]
  },
  {
   "cell_type": "code",
   "execution_count": 22,
   "metadata": {},
   "outputs": [
    {
     "name": "stdout",
     "output_type": "stream",
     "text": [
      "<re.Match object; span=(244, 255), match='Mr. Johnson'>\n",
      "<re.Match object; span=(256, 264), match='Mr Smith'>\n",
      "<re.Match object; span=(288, 297), match='Mr. Lewis'>\n"
     ]
    }
   ],
   "source": [
    "# \\. is used to denote a literal dot\n",
    "# ? is used to denote zero or one occurrence of the preceding character\n",
    "# \\s is used to denote a whitespace character\n",
    "# [A-Z][a-z]* is used to denote an uppercase letter followed by zero or more lowercase letters\n",
    "# + is used to denote one or more occurrences of the preceding character\n",
    "\n",
    "pattern = re.compile(r'Mr\\.?\\s[A-Z][a-z]+')\n",
    "\n",
    "matches = list(pattern.finditer(document))\n",
    "\n",
    "if matches:\n",
    "    for mat in matches:\n",
    "        print(mat)\n",
    "else:\n",
    "    print(\"No matches found for pattern 'Mr\\\\.\\\\?\\\\s[A-Z][a-z]*'.\")"
   ]
  },
  {
   "cell_type": "code",
   "execution_count": 23,
   "metadata": {},
   "outputs": [
    {
     "name": "stdout",
     "output_type": "stream",
     "text": [
      "<re.Match object; span=(265, 273), match='Ms Davis'>\n",
      "<re.Match object; span=(274, 287), match='Mrs. Robinson'>\n"
     ]
    }
   ],
   "source": [
    "# finds 'Ms' or 'Mrs' followed by an optional dot, a whitespace character, and an uppercase letter followed by zero or more lowercase letters\n",
    "# (M(s|rs)) is used to denote a group of alternatives, \n",
    "# \\.?\\s is used to denote an optional dot followed by a whitespace character,\n",
    "# [A-Z][a-z]* is used to denote an uppercase letter followed by zero or more lowercase letters\n",
    "\n",
    "pattern = re.compile(r'M(s|rs)\\.?\\s[A-Z][a-z]*')\n",
    "\n",
    "matches = list(pattern.finditer(document))\n",
    "\n",
    "if matches:\n",
    "    for mat in matches:\n",
    "        print(mat)\n",
    "else:\n",
    "    print(\"No matches found for pattern 'M(s|rs)\\\\.\\\\?\\\\s[A-Z][a-z]*'.\")\n",
    "    "
   ]
  },
  {
   "cell_type": "code",
   "execution_count": 24,
   "metadata": {},
   "outputs": [
    {
     "name": "stdout",
     "output_type": "stream",
     "text": [
      "<re.Match object; span=(185, 197), match='321-555-4321'>\n",
      "<re.Match object; span=(198, 210), match='123.555.1234'>\n"
     ]
    }
   ],
   "source": [
    "# finds a phone number pattern in the format '123-456-7890', '123.456.7890', or '1234567890'\n",
    "# \\d{3} is used to denote three digits, [.-] is used to denote a hyphen or dot, \\d{4} is used to denote four digits\n",
    "# # \\d{3}[.-]\\d{3}[.-]\\d{4} is used to denote the phone number pattern\n",
    "\n",
    "pattern = re.compile(r'\\d{3}[.-]\\d{3}[.-]\\d{4}')\n",
    "\n",
    "matches = list(pattern.finditer(document))\n",
    "\n",
    "if matches:\n",
    "    for mat in matches:\n",
    "        print(mat)\n",
    "else:\n",
    "    print(\"No matches found for pattern '\\\\d{3}[.-]\\\\d{3}[.-]\\\\d{4}'.\") "
   ]
  },
  {
   "cell_type": "code",
   "execution_count": 25,
   "metadata": {},
   "outputs": [
    {
     "name": "stdout",
     "output_type": "stream",
     "text": [
      "<re.Match object; span=(163, 173), match='utexas.edu'>\n",
      "<re.Match object; span=(225, 234), match='myorg.edu'>\n"
     ]
    }
   ],
   "source": [
    "# [a-zA-Z0-9_]+ is used to denote one or more alphanumeric characters or underscores\n",
    "# \\. is used to denote a literal dot, [a-z]{3} is used to denote exactly three lowercase letters\n",
    "# This pattern matches filenames with a three-letter extension\n",
    "\n",
    "pattern = re.compile(r'[a-zA-Z0-9_]+\\.[a-z]{3}')\n",
    "\n",
    "matches = list(pattern.finditer(document))\n",
    "\n",
    "if matches:\n",
    "    for mat in matches:\n",
    "        print(mat)\n",
    "else:\n",
    "    print(\"No matches found for pattern '[a-zA-Z0-9_]+\\\\.[a-z]{3}'.\")\n",
    "    "
   ]
  },
  {
   "cell_type": "code",
   "execution_count": 26,
   "metadata": {},
   "outputs": [
    {
     "name": "stdout",
     "output_type": "stream",
     "text": [
      "<re.Match object; span=(220, 234), match='lisa@myorg.edu'>\n"
     ]
    }
   ],
   "source": [
    "# finds an email address pattern\n",
    "# [a-zA-Z0-9_.+-]+ is used to denote one or more alphanumeric characters, underscores, dots, pluses, or hyphens\n",
    "# @ is used to denote the at symbol\n",
    "# [a-zA-Z0-9-]+ is used to denote one or more alphanumeric characters or hyphens\n",
    "# \\. is used to denote a literal dot, [a-zA-Z0-9-.]+ is used to denote one or more alphanumeric characters, dots or hyphens\n",
    "\n",
    "pattern = re.compile(r'[a-zA-Z0-9_.+-]+@[a-zA-Z0-9-]+\\.[a-zA-Z0-9-.]+')\n",
    "\n",
    "matches = list(pattern.finditer(document))\n",
    "\n",
    "if matches:\n",
    "    for mat in matches:\n",
    "        print(mat)\n",
    "else:\n",
    "    print(\"No matches found for pattern '[a-zA-Z0-9_.+-]+@[a-zA-Z0-9-]+\\\\.[a-zA-Z0-9-.]+'.\")"
   ]
  },
  {
   "cell_type": "markdown",
   "metadata": {},
   "source": [
    "### Accessing information in the Match object"
   ]
  },
  {
   "cell_type": "code",
   "execution_count": 27,
   "metadata": {},
   "outputs": [
    {
     "name": "stdout",
     "output_type": "stream",
     "text": [
      "(220, 234)\n",
      "lisa@myorg.edu\n",
      "lisa@myorg.edu\n",
      "lisa@myorg.edu\n"
     ]
    }
   ],
   "source": [
    "# finds an email address pattern with a specific top-level domain length\n",
    "# [a-zA-Z0-9_.+-]+ is used to denote one or more alphanumeric characters, underscores, dots, pluses, or hyphens\n",
    "# @ is used to denote the at symbol\n",
    "# [a-zA-Z0-9-]+ is used to denote one or more alphanumeric characters or hyphens\n",
    "# \\. is used to denote a literal dot\n",
    "# [a-zA-Z0-9-.]{2,4} is used to denote two to four alphanumeric characters, dots or hyphens\n",
    "\n",
    "pattern = re.compile(r'[a-zA-Z0-9_.+-]+@[a-zA-Z0-9-]+\\.[a-zA-Z0-9-.]{2,4}')\n",
    "matches = list(pattern.finditer(document))\n",
    "for mat in matches:\n",
    "    print(mat.span(0))\n",
    "    print(mat.group(0))\n",
    "    print(document[mat.span(0)[0]:mat.span(0)[1]])\n",
    "    print(mat.string[mat.span(0)[0]:mat.span(0)[1]])\n"
   ]
  },
  {
   "cell_type": "code",
   "execution_count": 28,
   "metadata": {},
   "outputs": [],
   "source": [
    "urls = r'''\n",
    "https://www.google.com\n",
    "http://yahoo.com\n",
    "https://www.whitehouse.gov\n",
    "https://craigslist.org\n",
    "'''"
   ]
  },
  {
   "cell_type": "code",
   "execution_count": 29,
   "metadata": {},
   "outputs": [
    {
     "name": "stdout",
     "output_type": "stream",
     "text": [
      "<re.Match object; span=(1, 23), match='https://www.google.com'>\n",
      "<re.Match object; span=(24, 40), match='http://yahoo.com'>\n",
      "<re.Match object; span=(41, 67), match='https://www.whitehouse.gov'>\n",
      "<re.Match object; span=(68, 90), match='https://craigslist.org'>\n"
     ]
    }
   ],
   "source": [
    "# finds URLs in the format 'https://www.example.com' or 'http://example.com'\n",
    "# https? is used to denote 'http' or 'https', (www\\.)?\n",
    "# is used to denote an optional 'www.' prefix, \n",
    "# \\w+ is used to denote one or more word characters (alphanumeric + underscore), \n",
    "# \\.\\w+ is used to denote a dot followed by one or more word characters (alphanumeric + underscore)\n",
    "\n",
    "pattern = re.compile(r'https?://(www\\.)?\\w+\\.\\w+')\n",
    "matches = pattern.finditer(urls)\n",
    "for mat in matches:\n",
    "    print(mat)"
   ]
  },
  {
   "cell_type": "code",
   "execution_count": 30,
   "metadata": {},
   "outputs": [
    {
     "name": "stdout",
     "output_type": "stream",
     "text": [
      "google.com\n",
      "yahoo.com\n",
      "whitehouse.gov\n",
      "craigslist.org\n"
     ]
    }
   ],
   "source": [
    "# finds URLs in the format 'https://www.example.com' or 'http://example.com'\n",
    "# https? is used to denote 'http' or 'https', (www\\.)?\n",
    "# is used to denote an optional 'www.' prefix, \n",
    "# \\w+ is used to denote one or more word characters (alphanumeric + underscore), \n",
    "# \\.\\w+ is used to denote a dot followed by one or more word characters (alphanumeric + underscore)\n",
    "\n",
    "pattern = re.compile(r'https?://(www\\.)?(\\w+)(\\.\\w+)')\n",
    "matches = pattern.finditer(urls)\n",
    "for mat in matches:\n",
    "    print(mat.group(2)+mat.group(3))"
   ]
  },
  {
   "cell_type": "code",
   "execution_count": 31,
   "metadata": {},
   "outputs": [
    {
     "name": "stdout",
     "output_type": "stream",
     "text": [
      "https://www.google.com\n",
      "google.com\n",
      "http://yahoo.com\n",
      "yahoo.com\n",
      "https://www.whitehouse.gov\n",
      "whitehouse.gov\n",
      "https://craigslist.org\n",
      "craigslist.org\n"
     ]
    }
   ],
   "source": [
    "pattern = re.compile(r'https?://(www\\.)?(\\w+)(\\.\\w+)')\n",
    "matches = pattern.finditer(urls)\n",
    "for mat in matches:\n",
    "    print(mat.group(0))\n",
    "    print(urls[mat.span(2)[0]:mat.span(2)[1]]+urls[mat.span(3)[0]:mat.span(3)[1]])"
   ]
  }
 ],
 "metadata": {
  "kernelspec": {
   "display_name": "base",
   "language": "python",
   "name": "python3"
  },
  "language_info": {
   "codemirror_mode": {
    "name": "ipython",
    "version": 3
   },
   "file_extension": ".py",
   "mimetype": "text/x-python",
   "name": "python",
   "nbconvert_exporter": "python",
   "pygments_lexer": "ipython3",
   "version": "3.11.5"
  }
 },
 "nbformat": 4,
 "nbformat_minor": 2
}
